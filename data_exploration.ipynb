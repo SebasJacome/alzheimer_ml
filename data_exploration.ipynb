{
 "cells": [
  {
   "cell_type": "code",
   "execution_count": 1,
   "id": "fe46a1f9-a30c-4583-bacd-ab5c5b3620c5",
   "metadata": {
    "collapsed": false
   },
   "outputs": [
    {
     "name": "stdout",
     "output_type": "stream",
     "text": [
      "Requirement already satisfied: tensorflow[and-cuda] in ./env/lib/python3.10/site-packages (2.18.0)\n",
      "Requirement already satisfied: scikit-learn in ./env/lib/python3.10/site-packages (1.6.1)\n",
      "Requirement already satisfied: matplotlib in ./env/lib/python3.10/site-packages (3.10.1)\n",
      "Requirement already satisfied: seaborn in ./env/lib/python3.10/site-packages (0.13.2)\n",
      "Requirement already satisfied: pandas in ./env/lib/python3.10/site-packages (2.2.3)\n",
      "Requirement already satisfied: imbalanced-learn in ./env/lib/python3.10/site-packages (0.13.0)\n",
      "Requirement already satisfied: wrapt>=1.11.0 in ./env/lib/python3.10/site-packages (from tensorflow[and-cuda]) (1.17.2)\n",
      "Requirement already satisfied: flatbuffers>=24.3.25 in ./env/lib/python3.10/site-packages (from tensorflow[and-cuda]) (25.2.10)\n",
      "Requirement already satisfied: absl-py>=1.0.0 in ./env/lib/python3.10/site-packages (from tensorflow[and-cuda]) (2.1.0)\n",
      "Requirement already satisfied: h5py>=3.11.0 in ./env/lib/python3.10/site-packages (from tensorflow[and-cuda]) (3.13.0)\n",
      "Requirement already satisfied: termcolor>=1.1.0 in ./env/lib/python3.10/site-packages (from tensorflow[and-cuda]) (2.5.0)\n",
      "Requirement already satisfied: opt-einsum>=2.3.2 in ./env/lib/python3.10/site-packages (from tensorflow[and-cuda]) (3.4.0)\n",
      "Requirement already satisfied: libclang>=13.0.0 in ./env/lib/python3.10/site-packages (from tensorflow[and-cuda]) (18.1.1)\n",
      "Requirement already satisfied: six>=1.12.0 in ./env/lib/python3.10/site-packages (from tensorflow[and-cuda]) (1.17.0)\n",
      "Requirement already satisfied: requests<3,>=2.21.0 in ./env/lib/python3.10/site-packages (from tensorflow[and-cuda]) (2.32.3)\n",
      "Requirement already satisfied: grpcio<2.0,>=1.24.3 in ./env/lib/python3.10/site-packages (from tensorflow[and-cuda]) (1.70.0)\n",
      "Requirement already satisfied: google-pasta>=0.1.1 in ./env/lib/python3.10/site-packages (from tensorflow[and-cuda]) (0.2.0)\n",
      "Requirement already satisfied: ml-dtypes<0.5.0,>=0.4.0 in ./env/lib/python3.10/site-packages (from tensorflow[and-cuda]) (0.4.1)\n",
      "Requirement already satisfied: numpy<2.1.0,>=1.26.0 in ./env/lib/python3.10/site-packages (from tensorflow[and-cuda]) (2.0.2)\n",
      "Requirement already satisfied: packaging in ./env/lib/python3.10/site-packages (from tensorflow[and-cuda]) (24.2)\n",
      "Requirement already satisfied: keras>=3.5.0 in ./env/lib/python3.10/site-packages (from tensorflow[and-cuda]) (3.9.0)\n",
      "Requirement already satisfied: typing-extensions>=3.6.6 in ./env/lib/python3.10/site-packages (from tensorflow[and-cuda]) (4.12.2)\n",
      "Requirement already satisfied: gast!=0.5.0,!=0.5.1,!=0.5.2,>=0.2.1 in ./env/lib/python3.10/site-packages (from tensorflow[and-cuda]) (0.6.0)\n",
      "Requirement already satisfied: tensorboard<2.19,>=2.18 in ./env/lib/python3.10/site-packages (from tensorflow[and-cuda]) (2.18.0)\n",
      "Requirement already satisfied: tensorflow-io-gcs-filesystem>=0.23.1 in ./env/lib/python3.10/site-packages (from tensorflow[and-cuda]) (0.37.1)\n",
      "Requirement already satisfied: astunparse>=1.6.0 in ./env/lib/python3.10/site-packages (from tensorflow[and-cuda]) (1.6.3)\n",
      "Requirement already satisfied: setuptools in ./env/lib/python3.10/site-packages (from tensorflow[and-cuda]) (59.6.0)\n",
      "Requirement already satisfied: protobuf!=4.21.0,!=4.21.1,!=4.21.2,!=4.21.3,!=4.21.4,!=4.21.5,<6.0.0dev,>=3.20.3 in ./env/lib/python3.10/site-packages (from tensorflow[and-cuda]) (5.29.3)\n",
      "Requirement already satisfied: nvidia-nvjitlink-cu12==12.5.82 in ./env/lib/python3.10/site-packages (from tensorflow[and-cuda]) (12.5.82)\n",
      "Requirement already satisfied: nvidia-cufft-cu12==11.2.3.61 in ./env/lib/python3.10/site-packages (from tensorflow[and-cuda]) (11.2.3.61)\n",
      "Requirement already satisfied: nvidia-cusparse-cu12==12.5.1.3 in ./env/lib/python3.10/site-packages (from tensorflow[and-cuda]) (12.5.1.3)\n",
      "Requirement already satisfied: nvidia-cudnn-cu12==9.3.0.75 in ./env/lib/python3.10/site-packages (from tensorflow[and-cuda]) (9.3.0.75)\n",
      "Requirement already satisfied: nvidia-cuda-runtime-cu12==12.5.82 in ./env/lib/python3.10/site-packages (from tensorflow[and-cuda]) (12.5.82)\n",
      "Requirement already satisfied: nvidia-curand-cu12==10.3.6.82 in ./env/lib/python3.10/site-packages (from tensorflow[and-cuda]) (10.3.6.82)\n",
      "Requirement already satisfied: nvidia-cusolver-cu12==11.6.3.83 in ./env/lib/python3.10/site-packages (from tensorflow[and-cuda]) (11.6.3.83)\n",
      "Requirement already satisfied: nvidia-cuda-cupti-cu12==12.5.82 in ./env/lib/python3.10/site-packages (from tensorflow[and-cuda]) (12.5.82)\n",
      "Requirement already satisfied: nvidia-cuda-nvcc-cu12==12.5.82 in ./env/lib/python3.10/site-packages (from tensorflow[and-cuda]) (12.5.82)\n",
      "Requirement already satisfied: nvidia-cublas-cu12==12.5.3.2 in ./env/lib/python3.10/site-packages (from tensorflow[and-cuda]) (12.5.3.2)\n",
      "Requirement already satisfied: nvidia-cuda-nvrtc-cu12==12.5.82 in ./env/lib/python3.10/site-packages (from tensorflow[and-cuda]) (12.5.82)\n",
      "Requirement already satisfied: nvidia-nccl-cu12==2.21.5 in ./env/lib/python3.10/site-packages (from tensorflow[and-cuda]) (2.21.5)\n",
      "Requirement already satisfied: joblib>=1.2.0 in ./env/lib/python3.10/site-packages (from scikit-learn) (1.4.2)\n",
      "Requirement already satisfied: threadpoolctl>=3.1.0 in ./env/lib/python3.10/site-packages (from scikit-learn) (3.5.0)\n",
      "Requirement already satisfied: scipy>=1.6.0 in ./env/lib/python3.10/site-packages (from scikit-learn) (1.15.2)\n",
      "Requirement already satisfied: contourpy>=1.0.1 in ./env/lib/python3.10/site-packages (from matplotlib) (1.3.1)\n",
      "Requirement already satisfied: python-dateutil>=2.7 in ./env/lib/python3.10/site-packages (from matplotlib) (2.9.0.post0)\n",
      "Requirement already satisfied: fonttools>=4.22.0 in ./env/lib/python3.10/site-packages (from matplotlib) (4.56.0)\n",
      "Requirement already satisfied: pyparsing>=2.3.1 in ./env/lib/python3.10/site-packages (from matplotlib) (3.2.1)\n",
      "Requirement already satisfied: kiwisolver>=1.3.1 in ./env/lib/python3.10/site-packages (from matplotlib) (1.4.8)\n",
      "Requirement already satisfied: pillow>=8 in ./env/lib/python3.10/site-packages (from matplotlib) (11.1.0)\n",
      "Requirement already satisfied: cycler>=0.10 in ./env/lib/python3.10/site-packages (from matplotlib) (0.12.1)\n",
      "Requirement already satisfied: tzdata>=2022.7 in ./env/lib/python3.10/site-packages (from pandas) (2025.1)\n",
      "Requirement already satisfied: pytz>=2020.1 in ./env/lib/python3.10/site-packages (from pandas) (2025.1)\n",
      "Requirement already satisfied: sklearn-compat<1,>=0.1 in ./env/lib/python3.10/site-packages (from imbalanced-learn) (0.1.3)\n",
      "Requirement already satisfied: wheel<1.0,>=0.23.0 in ./env/lib/python3.10/site-packages (from astunparse>=1.6.0->tensorflow[and-cuda]) (0.45.1)\n",
      "Requirement already satisfied: namex in ./env/lib/python3.10/site-packages (from keras>=3.5.0->tensorflow[and-cuda]) (0.0.8)\n",
      "Requirement already satisfied: rich in ./env/lib/python3.10/site-packages (from keras>=3.5.0->tensorflow[and-cuda]) (13.9.4)\n",
      "Requirement already satisfied: optree in ./env/lib/python3.10/site-packages (from keras>=3.5.0->tensorflow[and-cuda]) (0.14.1)\n",
      "Requirement already satisfied: idna<4,>=2.5 in ./env/lib/python3.10/site-packages (from requests<3,>=2.21.0->tensorflow[and-cuda]) (3.10)\n",
      "Requirement already satisfied: urllib3<3,>=1.21.1 in ./env/lib/python3.10/site-packages (from requests<3,>=2.21.0->tensorflow[and-cuda]) (2.3.0)\n",
      "Requirement already satisfied: charset-normalizer<4,>=2 in ./env/lib/python3.10/site-packages (from requests<3,>=2.21.0->tensorflow[and-cuda]) (3.4.1)\n",
      "Requirement already satisfied: certifi>=2017.4.17 in ./env/lib/python3.10/site-packages (from requests<3,>=2.21.0->tensorflow[and-cuda]) (2025.1.31)\n",
      "Requirement already satisfied: tensorboard-data-server<0.8.0,>=0.7.0 in ./env/lib/python3.10/site-packages (from tensorboard<2.19,>=2.18->tensorflow[and-cuda]) (0.7.2)\n",
      "Requirement already satisfied: markdown>=2.6.8 in ./env/lib/python3.10/site-packages (from tensorboard<2.19,>=2.18->tensorflow[and-cuda]) (3.7)\n",
      "Requirement already satisfied: werkzeug>=1.0.1 in ./env/lib/python3.10/site-packages (from tensorboard<2.19,>=2.18->tensorflow[and-cuda]) (3.1.3)\n",
      "Requirement already satisfied: MarkupSafe>=2.1.1 in ./env/lib/python3.10/site-packages (from werkzeug>=1.0.1->tensorboard<2.19,>=2.18->tensorflow[and-cuda]) (3.0.2)\n",
      "Requirement already satisfied: pygments<3.0.0,>=2.13.0 in ./env/lib/python3.10/site-packages (from rich->keras>=3.5.0->tensorflow[and-cuda]) (2.19.1)\n",
      "Requirement already satisfied: markdown-it-py>=2.2.0 in ./env/lib/python3.10/site-packages (from rich->keras>=3.5.0->tensorflow[and-cuda]) (3.0.0)\n",
      "Requirement already satisfied: mdurl~=0.1 in ./env/lib/python3.10/site-packages (from markdown-it-py>=2.2.0->rich->keras>=3.5.0->tensorflow[and-cuda]) (0.1.2)\n",
      "Note: you may need to restart the kernel to use updated packages.\n"
     ]
    }
   ],
   "source": [
    "%pip install tensorflow[and-cuda] scikit-learn matplotlib seaborn pandas imbalanced-learn"
   ]
  },
  {
   "cell_type": "markdown",
   "id": "272254bf-aec7-43da-807e-2467d322244d",
   "metadata": {
    "collapsed": false,
    "jupyter": {
     "outputs_hidden": false
    }
   },
   "source": [
    "Proyecto Aprendizaje Automático: Predicción del Alzheimer\n",
    "\n",
    "Santiago Valdez Bocardo\n",
    "\n",
    "Sebastián Arturo Jácome Herrera\n",
    "\n",
    "Este código realiza un análisis y modelado predictivo del diagnóstico de Alzheimer utilizando Machine Learning y Deep Learning.\n",
    "\n",
    "Pasos principales:\n",
    "1. **Carga y exploración de datos**: Se analiza la estructura del dataset.\n",
    "2. **Preprocesamiento**: Se eliminan columnas redundantes, se codifican variables categóricas y se escalan datos numéricos.\n",
    "3. **Balanceo de clases**: Se aplican técnicas de Near Miss y SMOTE para abordar el desbalance en los datos.\n",
    "4. **Entrenamiento de modelos**: Se prueban modelos de Decision Tree, Logistic Regression, SVM y Neural Network.\n",
    "5. **Reducción de dimensionalidad**: Se aplica PCA para mejorar el desempeño de los modelos.\n",
    "6. **Optimización del mejor modelo**: Se usa GridSearch para ajustar hiperparámetros en la red neuronal.\n",
    "7. **Evaluación y visualización de resultados**: Se calculan métricas como Accuracy, Precision, Recall y F1-Score y se generan visualizaciones de los modelos."
   ]
  },
  {
   "cell_type": "code",
   "execution_count": 2,
   "id": "ac6e0c48-6725-46c3-a689-07d054a38467",
   "metadata": {
    "collapsed": false,
    "jupyter": {
     "outputs_hidden": false
    }
   },
   "outputs": [
    {
     "name": "stderr",
     "output_type": "stream",
     "text": [
      "2025-03-06 08:55:26.780918: I tensorflow/core/util/port.cc:153] oneDNN custom operations are on. You may see slightly different numerical results due to floating-point round-off errors from different computation orders. To turn them off, set the environment variable `TF_ENABLE_ONEDNN_OPTS=0`.\n",
      "2025-03-06 08:55:26.788983: E external/local_xla/xla/stream_executor/cuda/cuda_fft.cc:477] Unable to register cuFFT factory: Attempting to register factory for plugin cuFFT when one has already been registered\n",
      "WARNING: All log messages before absl::InitializeLog() is called are written to STDERR\n",
      "E0000 00:00:1741272926.798241 2010287 cuda_dnn.cc:8310] Unable to register cuDNN factory: Attempting to register factory for plugin cuDNN when one has already been registered\n",
      "E0000 00:00:1741272926.800961 2010287 cuda_blas.cc:1418] Unable to register cuBLAS factory: Attempting to register factory for plugin cuBLAS when one has already been registered\n",
      "2025-03-06 08:55:26.810513: I tensorflow/core/platform/cpu_feature_guard.cc:210] This TensorFlow binary is optimized to use available CPU instructions in performance-critical operations.\n",
      "To enable the following instructions: AVX2 AVX_VNNI FMA, in other operations, rebuild TensorFlow with the appropriate compiler flags.\n"
     ]
    }
   ],
   "source": [
    "import pandas as pd\n",
    "import seaborn as sns\n",
    "import matplotlib.pyplot as plt\n",
    "from sklearn.preprocessing import LabelEncoder, OrdinalEncoder, OneHotEncoder, StandardScaler, MinMaxScaler\n",
    "from sklearn.model_selection import train_test_split\n",
    "from imblearn.under_sampling import NearMiss\n",
    "from imblearn.over_sampling import SMOTE\n",
    "from sklearn.linear_model import LogisticRegression\n",
    "from sklearn.metrics import accuracy_score, precision_score, recall_score, f1_score, confusion_matrix, classification_report\n",
    "import numpy as np\n",
    "from imblearn.under_sampling import RandomUnderSampler\n",
    "from imblearn.over_sampling import RandomOverSampler\n",
    "from sklearn import tree\n",
    "import tensorflow as tf\n",
    "import keras\n",
    "from keras.models import Sequential\n",
    "from keras.layers import Dense, Dropout\n",
    "from keras import layers\n",
    "from tensorflow.keras.wrappers.scikit_learn import KerasClassifier\n",
    "from sklearn.model_selection import GridSearchCV\n",
    "from sklearn.decomposition import PCA\n",
    "from sklearn.svm import SVC\n",
    "import itertools"
   ]
  },
  {
   "cell_type": "code",
   "execution_count": 3,
   "id": "c09d9a5c-6139-4759-a4ae-b2197cf67c95",
   "metadata": {
    "collapsed": false,
    "jupyter": {
     "outputs_hidden": false
    }
   },
   "outputs": [],
   "source": [
    "import warnings\n",
    "\n",
    "warnings.filterwarnings('ignore')"
   ]
  },
  {
   "cell_type": "markdown",
   "id": "c8c01ac4-aaf5-41af-827f-1bd0b40fd809",
   "metadata": {
    "collapsed": false,
    "jupyter": {
     "outputs_hidden": false
    }
   },
   "source": [
    "Primeras filas\n",
    "\n",
    "Mostrar las primeras filas del dataset para tener una idea general de su contenido"
   ]
  },
  {
   "cell_type": "code",
   "execution_count": 4,
   "id": "9cbc0432-fa66-421d-b878-2e25896b5c19",
   "metadata": {
    "collapsed": false,
    "jupyter": {
     "outputs_hidden": false
    }
   },
   "outputs": [
    {
     "data": {
      "text/html": [
       "<div>\n",
       "<style scoped>\n",
       "    .dataframe tbody tr th:only-of-type {\n",
       "        vertical-align: middle;\n",
       "    }\n",
       "\n",
       "    .dataframe tbody tr th {\n",
       "        vertical-align: top;\n",
       "    }\n",
       "\n",
       "    .dataframe thead th {\n",
       "        text-align: right;\n",
       "    }\n",
       "</style>\n",
       "<table border=\"1\" class=\"dataframe\">\n",
       "  <thead>\n",
       "    <tr style=\"text-align: right;\">\n",
       "      <th></th>\n",
       "      <th>Country</th>\n",
       "      <th>Age</th>\n",
       "      <th>Gender</th>\n",
       "      <th>Education Level</th>\n",
       "      <th>BMI</th>\n",
       "      <th>Physical Activity Level</th>\n",
       "      <th>Smoking Status</th>\n",
       "      <th>Alcohol Consumption</th>\n",
       "      <th>Diabetes</th>\n",
       "      <th>Hypertension</th>\n",
       "      <th>...</th>\n",
       "      <th>Dietary Habits</th>\n",
       "      <th>Air Pollution Exposure</th>\n",
       "      <th>Employment Status</th>\n",
       "      <th>Marital Status</th>\n",
       "      <th>Genetic Risk Factor (APOE-ε4 allele)</th>\n",
       "      <th>Social Engagement Level</th>\n",
       "      <th>Income Level</th>\n",
       "      <th>Stress Levels</th>\n",
       "      <th>Urban vs Rural Living</th>\n",
       "      <th>Alzheimer’s Diagnosis</th>\n",
       "    </tr>\n",
       "  </thead>\n",
       "  <tbody>\n",
       "    <tr>\n",
       "      <th>0</th>\n",
       "      <td>Spain</td>\n",
       "      <td>90</td>\n",
       "      <td>Male</td>\n",
       "      <td>1</td>\n",
       "      <td>33.0</td>\n",
       "      <td>Medium</td>\n",
       "      <td>Never</td>\n",
       "      <td>Occasionally</td>\n",
       "      <td>No</td>\n",
       "      <td>No</td>\n",
       "      <td>...</td>\n",
       "      <td>Healthy</td>\n",
       "      <td>High</td>\n",
       "      <td>Retired</td>\n",
       "      <td>Single</td>\n",
       "      <td>No</td>\n",
       "      <td>Low</td>\n",
       "      <td>Medium</td>\n",
       "      <td>High</td>\n",
       "      <td>Urban</td>\n",
       "      <td>No</td>\n",
       "    </tr>\n",
       "    <tr>\n",
       "      <th>1</th>\n",
       "      <td>Argentina</td>\n",
       "      <td>72</td>\n",
       "      <td>Male</td>\n",
       "      <td>7</td>\n",
       "      <td>29.9</td>\n",
       "      <td>Medium</td>\n",
       "      <td>Former</td>\n",
       "      <td>Never</td>\n",
       "      <td>No</td>\n",
       "      <td>No</td>\n",
       "      <td>...</td>\n",
       "      <td>Healthy</td>\n",
       "      <td>Medium</td>\n",
       "      <td>Unemployed</td>\n",
       "      <td>Widowed</td>\n",
       "      <td>No</td>\n",
       "      <td>High</td>\n",
       "      <td>Low</td>\n",
       "      <td>High</td>\n",
       "      <td>Urban</td>\n",
       "      <td>No</td>\n",
       "    </tr>\n",
       "    <tr>\n",
       "      <th>2</th>\n",
       "      <td>South Africa</td>\n",
       "      <td>86</td>\n",
       "      <td>Female</td>\n",
       "      <td>19</td>\n",
       "      <td>22.9</td>\n",
       "      <td>High</td>\n",
       "      <td>Current</td>\n",
       "      <td>Occasionally</td>\n",
       "      <td>No</td>\n",
       "      <td>Yes</td>\n",
       "      <td>...</td>\n",
       "      <td>Average</td>\n",
       "      <td>Medium</td>\n",
       "      <td>Employed</td>\n",
       "      <td>Single</td>\n",
       "      <td>No</td>\n",
       "      <td>Low</td>\n",
       "      <td>Medium</td>\n",
       "      <td>High</td>\n",
       "      <td>Rural</td>\n",
       "      <td>No</td>\n",
       "    </tr>\n",
       "    <tr>\n",
       "      <th>3</th>\n",
       "      <td>China</td>\n",
       "      <td>53</td>\n",
       "      <td>Male</td>\n",
       "      <td>17</td>\n",
       "      <td>31.2</td>\n",
       "      <td>Low</td>\n",
       "      <td>Never</td>\n",
       "      <td>Regularly</td>\n",
       "      <td>Yes</td>\n",
       "      <td>No</td>\n",
       "      <td>...</td>\n",
       "      <td>Healthy</td>\n",
       "      <td>Medium</td>\n",
       "      <td>Retired</td>\n",
       "      <td>Single</td>\n",
       "      <td>No</td>\n",
       "      <td>High</td>\n",
       "      <td>Medium</td>\n",
       "      <td>Low</td>\n",
       "      <td>Rural</td>\n",
       "      <td>No</td>\n",
       "    </tr>\n",
       "    <tr>\n",
       "      <th>4</th>\n",
       "      <td>Sweden</td>\n",
       "      <td>58</td>\n",
       "      <td>Female</td>\n",
       "      <td>3</td>\n",
       "      <td>30.0</td>\n",
       "      <td>High</td>\n",
       "      <td>Former</td>\n",
       "      <td>Never</td>\n",
       "      <td>Yes</td>\n",
       "      <td>No</td>\n",
       "      <td>...</td>\n",
       "      <td>Unhealthy</td>\n",
       "      <td>High</td>\n",
       "      <td>Employed</td>\n",
       "      <td>Married</td>\n",
       "      <td>No</td>\n",
       "      <td>Low</td>\n",
       "      <td>Medium</td>\n",
       "      <td>High</td>\n",
       "      <td>Rural</td>\n",
       "      <td>No</td>\n",
       "    </tr>\n",
       "  </tbody>\n",
       "</table>\n",
       "<p>5 rows × 25 columns</p>\n",
       "</div>"
      ],
      "text/plain": [
       "        Country  Age  Gender  Education Level   BMI Physical Activity Level  \\\n",
       "0         Spain   90    Male                1  33.0                  Medium   \n",
       "1     Argentina   72    Male                7  29.9                  Medium   \n",
       "2  South Africa   86  Female               19  22.9                    High   \n",
       "3         China   53    Male               17  31.2                     Low   \n",
       "4        Sweden   58  Female                3  30.0                    High   \n",
       "\n",
       "  Smoking Status Alcohol Consumption Diabetes Hypertension  ...  \\\n",
       "0          Never        Occasionally       No           No  ...   \n",
       "1         Former               Never       No           No  ...   \n",
       "2        Current        Occasionally       No          Yes  ...   \n",
       "3          Never           Regularly      Yes           No  ...   \n",
       "4         Former               Never      Yes           No  ...   \n",
       "\n",
       "  Dietary Habits Air Pollution Exposure  Employment Status Marital Status  \\\n",
       "0        Healthy                   High            Retired         Single   \n",
       "1        Healthy                 Medium         Unemployed        Widowed   \n",
       "2        Average                 Medium           Employed         Single   \n",
       "3        Healthy                 Medium            Retired         Single   \n",
       "4      Unhealthy                   High           Employed        Married   \n",
       "\n",
       "  Genetic Risk Factor (APOE-ε4 allele) Social Engagement Level Income Level  \\\n",
       "0                                   No                     Low       Medium   \n",
       "1                                   No                    High          Low   \n",
       "2                                   No                     Low       Medium   \n",
       "3                                   No                    High       Medium   \n",
       "4                                   No                     Low       Medium   \n",
       "\n",
       "  Stress Levels Urban vs Rural Living Alzheimer’s Diagnosis  \n",
       "0          High                 Urban                    No  \n",
       "1          High                 Urban                    No  \n",
       "2          High                 Rural                    No  \n",
       "3           Low                 Rural                    No  \n",
       "4          High                 Rural                    No  \n",
       "\n",
       "[5 rows x 25 columns]"
      ]
     },
     "execution_count": 4,
     "metadata": {},
     "output_type": "execute_result"
    }
   ],
   "source": [
    "file_path = \"./alzheimers_prediction_dataset.csv\"\n",
    "df = pd.read_csv(file_path)\n",
    "df.head(5)"
   ]
  },
  {
   "cell_type": "markdown",
   "id": "1608c15f-faaa-4b41-bbdd-ee6ed0ff2600",
   "metadata": {
    "collapsed": false,
    "jupyter": {
     "outputs_hidden": false
    }
   },
   "source": [
    "# Conjunto de datos"
   ]
  },
  {
   "cell_type": "markdown",
   "id": "e23773e4-f6b4-4493-965a-704380d0cdf9",
   "metadata": {
    "collapsed": false,
    "jupyter": {
     "outputs_hidden": false
    }
   },
   "source": [
    "Alzheimer’s Prediction Dataset (Global) es un conjunto de datos que contiene 74,283 registros provenientes de 20 países distintos. Este conjunto de datos es útil para modelos predictivos, estudios epidemiológicos e investigaciones sanitarias sobre la enfermedad de Alzheimer.\n",
    "\n",
    "\n",
    "\n",
    "Atributos del Dataset\n",
    "\n",
    "\n",
    "* Datos Demográficos:\n",
    "\n",
    "Country: País de origen del individuo.\n",
    "\n",
    "Age: Edad del individuo.\n",
    "\n",
    "Gender: Género (Male/Female).\n",
    "\n",
    "Education Level: Nivel educativo alcanzado (expresado en años de educación).\n",
    "\n",
    "* Factores de Estilo de Vida:\n",
    "\n",
    "Physical Activity Level: Nivel de actividad física (Bajo, Medio, Alto).\n",
    "\n",
    "Smoking Status: Estado de tabaquismo (Nunca, Exfumador, Actual).\n",
    "\n",
    "Alcohol Consumption: Frecuencia de consumo de alcohol (Nunca, Ocasionalmente, Regularmente).\n",
    "\n",
    "Dietary Habits: Tipo de alimentación (Saludable, Promedio).\n",
    "\n",
    "Air Pollution Exposure: Nivel de exposición a la contaminación del aire (Bajo, Medio, Alto).\n",
    "\n",
    "Social Engagement Level: Nivel de participación en actividades sociales (Bajo, Medio, Alto).\n",
    "\n",
    "Urban vs Rural Living: Lugar de residencia (Urbano/Rural).\n",
    "\n",
    "* Factores Médicos:\n",
    "\n",
    "BMI: Índice de Masa Corporal (IMC).\n",
    "\n",
    "Diabetes: Presencia de diabetes (Sí/No).\n",
    "\n",
    "Hypertension: Hipertensión arterial (Sí/No).\n",
    "\n",
    "Cholesterol Level: Nivel de colesterol (Normal/Alto).\n",
    "\n",
    "Family History of Alzheimer’s: Antecedentes familiares de Alzheimer (Sí/No).\n",
    "\n",
    "Cognitive Test Score: Puntuación en pruebas cognitivas.\n",
    "\n",
    "Depression Level: Nivel de depresión (Bajo, Medio, Alto).\n",
    "\n",
    "Sleep Quality: Calidad del sueño (Buena, Regular, Pobre).\n",
    "\n",
    "\n",
    "Stress Levels: Niveles de estrés (Bajo, Medio, Alto).\n",
    "\n",
    "* Factores Genéticos y Económicos:\n",
    "\n",
    "Genetic Risk Factor (APOE-ε4 allele): Presencia del alelo APOE-ε4 (Sí/No).\n",
    "\n",
    "Income Level: Nivel de ingresos (Bajo, Medio, Alto).\n",
    "\n",
    "Employment Status: Estado laboral (Empleado, Desempleado, Jubilado).\n",
    "\n",
    "Marital Status: Estado civil (Soltero, Casado, Viudo).\n",
    "\n",
    "* Variable Objetivo:\n",
    "\n",
    "Alzheimer’s Diagnosis: Diagnóstico de Alzheimer, variable binaria con los valores:\n",
    "\n",
    "0 (No): No se ha diagnosticado Alzheimer.\n",
    "\n",
    "1 (Sí): Diagnóstico positivo de Alzheimer.\n",
    "\n",
    "\n"
   ]
  },
  {
   "cell_type": "markdown",
   "id": "b1ce49c9-8048-4121-a945-20ce7ecde0fc",
   "metadata": {
    "collapsed": false,
    "jupyter": {
     "outputs_hidden": false
    }
   },
   "source": [
    "# Exploración de datos"
   ]
  },
  {
   "cell_type": "markdown",
   "id": "edb7bcfd-5a23-4e17-a225-5473e147a3ef",
   "metadata": {
    "collapsed": false,
    "jupyter": {
     "outputs_hidden": false
    }
   },
   "source": [
    "Información General del Dataset\n",
    "\n",
    "Análisis de la estructura general del dataset, incluyendo el número de columnas y tipos de datos"
   ]
  },
  {
   "cell_type": "code",
   "execution_count": 5,
   "id": "691d5f86-17aa-407e-85d5-e923b8c33ee9",
   "metadata": {
    "collapsed": false,
    "jupyter": {
     "outputs_hidden": false
    }
   },
   "outputs": [
    {
     "name": "stdout",
     "output_type": "stream",
     "text": [
      "<class 'pandas.core.frame.DataFrame'>\n",
      "RangeIndex: 74283 entries, 0 to 74282\n",
      "Data columns (total 25 columns):\n",
      " #   Column                                Non-Null Count  Dtype  \n",
      "---  ------                                --------------  -----  \n",
      " 0   Country                               74283 non-null  object \n",
      " 1   Age                                   74283 non-null  int64  \n",
      " 2   Gender                                74283 non-null  object \n",
      " 3   Education Level                       74283 non-null  int64  \n",
      " 4   BMI                                   74283 non-null  float64\n",
      " 5   Physical Activity Level               74283 non-null  object \n",
      " 6   Smoking Status                        74283 non-null  object \n",
      " 7   Alcohol Consumption                   74283 non-null  object \n",
      " 8   Diabetes                              74283 non-null  object \n",
      " 9   Hypertension                          74283 non-null  object \n",
      " 10  Cholesterol Level                     74283 non-null  object \n",
      " 11  Family History of Alzheimer’s         74283 non-null  object \n",
      " 12  Cognitive Test Score                  74283 non-null  int64  \n",
      " 13  Depression Level                      74283 non-null  object \n",
      " 14  Sleep Quality                         74283 non-null  object \n",
      " 15  Dietary Habits                        74283 non-null  object \n",
      " 16  Air Pollution Exposure                74283 non-null  object \n",
      " 17  Employment Status                     74283 non-null  object \n",
      " 18  Marital Status                        74283 non-null  object \n",
      " 19  Genetic Risk Factor (APOE-ε4 allele)  74283 non-null  object \n",
      " 20  Social Engagement Level               74283 non-null  object \n",
      " 21  Income Level                          74283 non-null  object \n",
      " 22  Stress Levels                         74283 non-null  object \n",
      " 23  Urban vs Rural Living                 74283 non-null  object \n",
      " 24  Alzheimer’s Diagnosis                 74283 non-null  object \n",
      "dtypes: float64(1), int64(3), object(21)\n",
      "memory usage: 14.2+ MB\n"
     ]
    }
   ],
   "source": [
    "df.info()"
   ]
  },
  {
   "cell_type": "code",
   "execution_count": 6,
   "id": "bfc4c455-88de-478b-87cb-0719c999b57e",
   "metadata": {
    "collapsed": false,
    "jupyter": {
     "outputs_hidden": false
    }
   },
   "outputs": [
    {
     "data": {
      "text/plain": [
       "(74283, 25)"
      ]
     },
     "execution_count": 6,
     "metadata": {},
     "output_type": "execute_result"
    }
   ],
   "source": [
    "df.shape"
   ]
  },
  {
   "cell_type": "markdown",
   "id": "7d5d0e92-1ab6-4a88-8c47-3b46d91c0caf",
   "metadata": {
    "collapsed": false,
    "jupyter": {
     "outputs_hidden": false
    }
   },
   "source": [
    "Valores Faltantes"
   ]
  },
  {
   "cell_type": "code",
   "execution_count": 7,
   "id": "58722724-32fd-4e44-a5f9-b34f65ba9b53",
   "metadata": {
    "collapsed": false,
    "jupyter": {
     "outputs_hidden": false
    }
   },
   "outputs": [
    {
     "data": {
      "text/plain": [
       "Country                                 0\n",
       "Age                                     0\n",
       "Gender                                  0\n",
       "Education Level                         0\n",
       "BMI                                     0\n",
       "Physical Activity Level                 0\n",
       "Smoking Status                          0\n",
       "Alcohol Consumption                     0\n",
       "Diabetes                                0\n",
       "Hypertension                            0\n",
       "Cholesterol Level                       0\n",
       "Family History of Alzheimer’s           0\n",
       "Cognitive Test Score                    0\n",
       "Depression Level                        0\n",
       "Sleep Quality                           0\n",
       "Dietary Habits                          0\n",
       "Air Pollution Exposure                  0\n",
       "Employment Status                       0\n",
       "Marital Status                          0\n",
       "Genetic Risk Factor (APOE-ε4 allele)    0\n",
       "Social Engagement Level                 0\n",
       "Income Level                            0\n",
       "Stress Levels                           0\n",
       "Urban vs Rural Living                   0\n",
       "Alzheimer’s Diagnosis                   0\n",
       "dtype: int64"
      ]
     },
     "execution_count": 7,
     "metadata": {},
     "output_type": "execute_result"
    }
   ],
   "source": [
    "df.isnull().sum()"
   ]
  },
  {
   "cell_type": "markdown",
   "id": "764f047b-63a4-478d-a2b4-940327ca8163",
   "metadata": {
    "collapsed": false,
    "jupyter": {
     "outputs_hidden": false
    }
   },
   "source": [
    "Datos Duplicados"
   ]
  },
  {
   "cell_type": "code",
   "execution_count": 8,
   "id": "ed59cb16-cfce-415c-8e2d-c97edced3a07",
   "metadata": {
    "collapsed": false,
    "jupyter": {
     "outputs_hidden": false
    }
   },
   "outputs": [
    {
     "data": {
      "text/html": [
       "<div>\n",
       "<style scoped>\n",
       "    .dataframe tbody tr th:only-of-type {\n",
       "        vertical-align: middle;\n",
       "    }\n",
       "\n",
       "    .dataframe tbody tr th {\n",
       "        vertical-align: top;\n",
       "    }\n",
       "\n",
       "    .dataframe thead th {\n",
       "        text-align: right;\n",
       "    }\n",
       "</style>\n",
       "<table border=\"1\" class=\"dataframe\">\n",
       "  <thead>\n",
       "    <tr style=\"text-align: right;\">\n",
       "      <th></th>\n",
       "      <th>Country</th>\n",
       "      <th>Age</th>\n",
       "      <th>Gender</th>\n",
       "      <th>Education Level</th>\n",
       "      <th>BMI</th>\n",
       "      <th>Physical Activity Level</th>\n",
       "      <th>Smoking Status</th>\n",
       "      <th>Alcohol Consumption</th>\n",
       "      <th>Diabetes</th>\n",
       "      <th>Hypertension</th>\n",
       "      <th>...</th>\n",
       "      <th>Dietary Habits</th>\n",
       "      <th>Air Pollution Exposure</th>\n",
       "      <th>Employment Status</th>\n",
       "      <th>Marital Status</th>\n",
       "      <th>Genetic Risk Factor (APOE-ε4 allele)</th>\n",
       "      <th>Social Engagement Level</th>\n",
       "      <th>Income Level</th>\n",
       "      <th>Stress Levels</th>\n",
       "      <th>Urban vs Rural Living</th>\n",
       "      <th>Alzheimer’s Diagnosis</th>\n",
       "    </tr>\n",
       "  </thead>\n",
       "  <tbody>\n",
       "  </tbody>\n",
       "</table>\n",
       "<p>0 rows × 25 columns</p>\n",
       "</div>"
      ],
      "text/plain": [
       "Empty DataFrame\n",
       "Columns: [Country, Age, Gender, Education Level, BMI, Physical Activity Level, Smoking Status, Alcohol Consumption, Diabetes, Hypertension, Cholesterol Level, Family History of Alzheimer’s, Cognitive Test Score, Depression Level, Sleep Quality, Dietary Habits, Air Pollution Exposure, Employment Status, Marital Status, Genetic Risk Factor (APOE-ε4 allele), Social Engagement Level, Income Level, Stress Levels, Urban vs Rural Living, Alzheimer’s Diagnosis]\n",
       "Index: []\n",
       "\n",
       "[0 rows x 25 columns]"
      ]
     },
     "execution_count": 8,
     "metadata": {},
     "output_type": "execute_result"
    }
   ],
   "source": [
    "duplicated = df[df.duplicated()]\n",
    "duplicated"
   ]
  },
  {
   "cell_type": "code",
   "execution_count": 9,
   "id": "9c5938ee-1b9e-489c-b54a-b6395026a3a2",
   "metadata": {
    "collapsed": false,
    "jupyter": {
     "outputs_hidden": false
    }
   },
   "outputs": [
    {
     "data": {
      "text/plain": [
       "Index(['Country', 'Age', 'Gender', 'Education Level', 'BMI',\n",
       "       'Physical Activity Level', 'Smoking Status', 'Alcohol Consumption',\n",
       "       'Diabetes', 'Hypertension', 'Cholesterol Level',\n",
       "       'Family History of Alzheimer’s', 'Cognitive Test Score',\n",
       "       'Depression Level', 'Sleep Quality', 'Dietary Habits',\n",
       "       'Air Pollution Exposure', 'Employment Status', 'Marital Status',\n",
       "       'Genetic Risk Factor (APOE-ε4 allele)', 'Social Engagement Level',\n",
       "       'Income Level', 'Stress Levels', 'Urban vs Rural Living',\n",
       "       'Alzheimer’s Diagnosis'],\n",
       "      dtype='object')"
      ]
     },
     "execution_count": 9,
     "metadata": {},
     "output_type": "execute_result"
    }
   ],
   "source": [
    "df.columns"
   ]
  },
  {
   "cell_type": "code",
   "execution_count": 10,
   "id": "a32ee87b-2b06-47e4-a1e8-38c0619f45db",
   "metadata": {
    "collapsed": false,
    "jupyter": {
     "outputs_hidden": false
    }
   },
   "outputs": [
    {
     "name": "stdout",
     "output_type": "stream",
     "text": [
      "Column:  Country\n",
      "Argentina       3731\n",
      "Australia       3787\n",
      "Brazil          3839\n",
      "Canada          3711\n",
      "China           3592\n",
      "France          3710\n",
      "Germany         3807\n",
      "India           3741\n",
      "Italy           3724\n",
      "Japan           3751\n",
      "Mexico          3598\n",
      "Norway          3706\n",
      "Russia          3778\n",
      "Saudi Arabia    3662\n",
      "South Africa    3760\n",
      "South Korea     3732\n",
      "Spain           3698\n",
      "Sweden          3689\n",
      "UK              3651\n",
      "USA             3616\n",
      "Name: Age, dtype: int64\n",
      "\n",
      "\n",
      "Column:  Age\n",
      "50    1701\n",
      "51    1672\n",
      "52    1616\n",
      "53    1625\n",
      "54    1681\n",
      "55    1614\n",
      "56    1615\n",
      "57    1655\n",
      "58    1612\n",
      "59    1655\n",
      "60    1703\n",
      "61    1684\n",
      "62    1677\n",
      "63    1641\n",
      "64    1709\n",
      "65    1684\n",
      "66    1659\n",
      "67    1655\n",
      "68    1576\n",
      "69    1684\n",
      "70    1611\n",
      "71    1682\n",
      "72    1731\n",
      "73    1596\n",
      "74    1624\n",
      "75    1671\n",
      "76    1690\n",
      "77    1577\n",
      "78    1632\n",
      "79    1641\n",
      "80    1673\n",
      "81    1670\n",
      "82    1712\n",
      "83    1629\n",
      "84    1595\n",
      "85    1602\n",
      "86    1668\n",
      "87    1644\n",
      "88    1653\n",
      "89    1656\n",
      "90    1665\n",
      "91    1622\n",
      "92    1607\n",
      "93    1649\n",
      "94    1665\n",
      "Name: Country, dtype: int64\n",
      "\n",
      "\n",
      "Column:  Gender\n",
      "Female    37249\n",
      "Male      37034\n",
      "Name: Country, dtype: int64\n",
      "\n",
      "\n",
      "Column:  Education Level\n",
      "0     3646\n",
      "1     3782\n",
      "2     3709\n",
      "3     3715\n",
      "4     3741\n",
      "5     3685\n",
      "6     3780\n",
      "7     3747\n",
      "8     3718\n",
      "9     3715\n",
      "10    3685\n",
      "11    3701\n",
      "12    3686\n",
      "13    3664\n",
      "14    3810\n",
      "15    3774\n",
      "16    3704\n",
      "17    3711\n",
      "18    3677\n",
      "19    3633\n",
      "Name: Country, dtype: int64\n",
      "\n",
      "\n",
      "Column:  BMI\n",
      "18.5    216\n",
      "18.6    462\n",
      "18.7    478\n",
      "18.8    420\n",
      "18.9    430\n",
      "       ... \n",
      "34.6    474\n",
      "34.7    493\n",
      "34.8    495\n",
      "34.9    443\n",
      "35.0    234\n",
      "Name: Country, Length: 166, dtype: int64\n",
      "\n",
      "\n",
      "Column:  Physical Activity Level\n",
      "High      24853\n",
      "Low       24754\n",
      "Medium    24676\n",
      "Name: Country, dtype: int64\n",
      "\n",
      "\n",
      "Column:  Smoking Status\n",
      "Current    24915\n",
      "Former     24628\n",
      "Never      24740\n",
      "Name: Country, dtype: int64\n",
      "\n",
      "\n",
      "Column:  Alcohol Consumption\n",
      "Never           24865\n",
      "Occasionally    24680\n",
      "Regularly       24738\n",
      "Name: Country, dtype: int64\n",
      "\n",
      "\n",
      "Column:  Diabetes\n",
      "No     59527\n",
      "Yes    14756\n",
      "Name: Country, dtype: int64\n",
      "\n",
      "\n",
      "Column:  Hypertension\n",
      "No     52134\n",
      "Yes    22149\n",
      "Name: Country, dtype: int64\n",
      "\n",
      "\n",
      "Column:  Cholesterol Level\n",
      "High      22310\n",
      "Normal    51973\n",
      "Name: Country, dtype: int64\n",
      "\n",
      "\n",
      "Column:  Family History of Alzheimer’s\n",
      "No     52004\n",
      "Yes    22279\n",
      "Name: Country, dtype: int64\n",
      "\n",
      "\n",
      "Column:  Cognitive Test Score\n",
      "30    1030\n",
      "31    1024\n",
      "32    1033\n",
      "33    1028\n",
      "34    1025\n",
      "      ... \n",
      "95    1077\n",
      "96    1055\n",
      "97    1092\n",
      "98    1062\n",
      "99    1052\n",
      "Name: Country, Length: 70, dtype: int64\n",
      "\n",
      "\n",
      "Column:  Depression Level\n",
      "High      24682\n",
      "Low       24758\n",
      "Medium    24843\n",
      "Name: Country, dtype: int64\n",
      "\n",
      "\n",
      "Column:  Sleep Quality\n",
      "Average    24715\n",
      "Good       25145\n",
      "Poor       24423\n",
      "Name: Country, dtype: int64\n",
      "\n",
      "\n",
      "Column:  Dietary Habits\n",
      "Average      24917\n",
      "Healthy      24688\n",
      "Unhealthy    24678\n",
      "Name: Country, dtype: int64\n",
      "\n",
      "\n",
      "Column:  Air Pollution Exposure\n",
      "High      24906\n",
      "Low       24656\n",
      "Medium    24721\n",
      "Name: Country, dtype: int64\n",
      "\n",
      "\n",
      "Column:  Employment Status\n",
      "Employed      24755\n",
      "Retired       24727\n",
      "Unemployed    24801\n",
      "Name: Country, dtype: int64\n",
      "\n",
      "\n",
      "Column:  Marital Status\n",
      "Married    24573\n",
      "Single     25169\n",
      "Widowed    24541\n",
      "Name: Country, dtype: int64\n",
      "\n",
      "\n",
      "Column:  Genetic Risk Factor (APOE-ε4 allele)\n",
      "No     59561\n",
      "Yes    14722\n",
      "Name: Country, dtype: int64\n",
      "\n",
      "\n",
      "Column:  Social Engagement Level\n",
      "High      24697\n",
      "Low       24727\n",
      "Medium    24859\n",
      "Name: Country, dtype: int64\n",
      "\n",
      "\n",
      "Column:  Income Level\n",
      "High      24848\n",
      "Low       24873\n",
      "Medium    24562\n",
      "Name: Country, dtype: int64\n",
      "\n",
      "\n",
      "Column:  Stress Levels\n",
      "High      24667\n",
      "Low       24730\n",
      "Medium    24886\n",
      "Name: Country, dtype: int64\n",
      "\n",
      "\n",
      "Column:  Urban vs Rural Living\n",
      "Rural    37203\n",
      "Urban    37080\n",
      "Name: Country, dtype: int64\n",
      "\n",
      "\n",
      "Column:  Alzheimer’s Diagnosis\n",
      "No     43570\n",
      "Yes    30713\n",
      "Name: Country, dtype: int64\n",
      "\n",
      "\n"
     ]
    }
   ],
   "source": [
    "for i in range(len(df.columns)):\n",
    "    ben = df.groupby(df.columns[i]).count()\n",
    "    print(\"Column: \", ben.iloc[:, 0])\n",
    "    print('\\n')"
   ]
  },
  {
   "cell_type": "markdown",
   "id": "de020e3b-2b81-4d2c-b076-2279fdba0ec9",
   "metadata": {
    "collapsed": false,
    "jupyter": {
     "outputs_hidden": false
    }
   },
   "source": [
    "There are 2 types of possible results:\n",
    "* Yes with 30713 rows\n",
    "* No with 43570 rows\n"
   ]
  },
  {
   "cell_type": "markdown",
   "id": "75358d8e-4aad-481a-9195-6842d37aaf0f",
   "metadata": {
    "collapsed": false,
    "jupyter": {
     "outputs_hidden": false
    }
   },
   "source": [
    "Estadísticas generales\n",
    "\n",
    "Visualización de estadísticas descriptivas para evaluar la distribución de las variables numéricas"
   ]
  },
  {
   "cell_type": "code",
   "execution_count": 11,
   "id": "9e7c6e57-6594-4dd4-b60d-59fa91b130e7",
   "metadata": {
    "collapsed": false,
    "jupyter": {
     "outputs_hidden": false
    }
   },
   "outputs": [
    {
     "data": {
      "text/html": [
       "<div>\n",
       "<style scoped>\n",
       "    .dataframe tbody tr th:only-of-type {\n",
       "        vertical-align: middle;\n",
       "    }\n",
       "\n",
       "    .dataframe tbody tr th {\n",
       "        vertical-align: top;\n",
       "    }\n",
       "\n",
       "    .dataframe thead th {\n",
       "        text-align: right;\n",
       "    }\n",
       "</style>\n",
       "<table border=\"1\" class=\"dataframe\">\n",
       "  <thead>\n",
       "    <tr style=\"text-align: right;\">\n",
       "      <th></th>\n",
       "      <th>Age</th>\n",
       "      <th>Education Level</th>\n",
       "      <th>BMI</th>\n",
       "      <th>Cognitive Test Score</th>\n",
       "    </tr>\n",
       "  </thead>\n",
       "  <tbody>\n",
       "    <tr>\n",
       "      <th>count</th>\n",
       "      <td>74283.000000</td>\n",
       "      <td>74283.000000</td>\n",
       "      <td>74283.000000</td>\n",
       "      <td>74283.000000</td>\n",
       "    </tr>\n",
       "    <tr>\n",
       "      <th>mean</th>\n",
       "      <td>71.964703</td>\n",
       "      <td>9.487514</td>\n",
       "      <td>26.780639</td>\n",
       "      <td>64.654241</td>\n",
       "    </tr>\n",
       "    <tr>\n",
       "      <th>std</th>\n",
       "      <td>12.980748</td>\n",
       "      <td>5.757020</td>\n",
       "      <td>4.764679</td>\n",
       "      <td>20.153247</td>\n",
       "    </tr>\n",
       "    <tr>\n",
       "      <th>min</th>\n",
       "      <td>50.000000</td>\n",
       "      <td>0.000000</td>\n",
       "      <td>18.500000</td>\n",
       "      <td>30.000000</td>\n",
       "    </tr>\n",
       "    <tr>\n",
       "      <th>25%</th>\n",
       "      <td>61.000000</td>\n",
       "      <td>4.000000</td>\n",
       "      <td>22.700000</td>\n",
       "      <td>47.000000</td>\n",
       "    </tr>\n",
       "    <tr>\n",
       "      <th>50%</th>\n",
       "      <td>72.000000</td>\n",
       "      <td>9.000000</td>\n",
       "      <td>26.800000</td>\n",
       "      <td>65.000000</td>\n",
       "    </tr>\n",
       "    <tr>\n",
       "      <th>75%</th>\n",
       "      <td>83.000000</td>\n",
       "      <td>14.000000</td>\n",
       "      <td>30.900000</td>\n",
       "      <td>82.000000</td>\n",
       "    </tr>\n",
       "    <tr>\n",
       "      <th>max</th>\n",
       "      <td>94.000000</td>\n",
       "      <td>19.000000</td>\n",
       "      <td>35.000000</td>\n",
       "      <td>99.000000</td>\n",
       "    </tr>\n",
       "  </tbody>\n",
       "</table>\n",
       "</div>"
      ],
      "text/plain": [
       "                Age  Education Level           BMI  Cognitive Test Score\n",
       "count  74283.000000     74283.000000  74283.000000          74283.000000\n",
       "mean      71.964703         9.487514     26.780639             64.654241\n",
       "std       12.980748         5.757020      4.764679             20.153247\n",
       "min       50.000000         0.000000     18.500000             30.000000\n",
       "25%       61.000000         4.000000     22.700000             47.000000\n",
       "50%       72.000000         9.000000     26.800000             65.000000\n",
       "75%       83.000000        14.000000     30.900000             82.000000\n",
       "max       94.000000        19.000000     35.000000             99.000000"
      ]
     },
     "execution_count": 11,
     "metadata": {},
     "output_type": "execute_result"
    }
   ],
   "source": [
    "df.describe()"
   ]
  },
  {
   "cell_type": "code",
   "execution_count": 12,
   "id": "be031263-1571-41c8-88d3-bbe642972c54",
   "metadata": {
    "collapsed": false,
    "jupyter": {
     "outputs_hidden": false
    }
   },
   "outputs": [
    {
     "name": "stdout",
     "output_type": "stream",
     "text": [
      "<class 'pandas.core.frame.DataFrame'>\n",
      "RangeIndex: 74283 entries, 0 to 74282\n",
      "Data columns (total 25 columns):\n",
      " #   Column                                Non-Null Count  Dtype  \n",
      "---  ------                                --------------  -----  \n",
      " 0   Country                               74283 non-null  object \n",
      " 1   Age                                   74283 non-null  int64  \n",
      " 2   Gender                                74283 non-null  object \n",
      " 3   Education Level                       74283 non-null  int64  \n",
      " 4   BMI                                   74283 non-null  float64\n",
      " 5   Physical Activity Level               74283 non-null  object \n",
      " 6   Smoking Status                        74283 non-null  object \n",
      " 7   Alcohol Consumption                   74283 non-null  object \n",
      " 8   Diabetes                              74283 non-null  object \n",
      " 9   Hypertension                          74283 non-null  object \n",
      " 10  Cholesterol Level                     74283 non-null  object \n",
      " 11  Family History of Alzheimer’s         74283 non-null  object \n",
      " 12  Cognitive Test Score                  74283 non-null  int64  \n",
      " 13  Depression Level                      74283 non-null  object \n",
      " 14  Sleep Quality                         74283 non-null  object \n",
      " 15  Dietary Habits                        74283 non-null  object \n",
      " 16  Air Pollution Exposure                74283 non-null  object \n",
      " 17  Employment Status                     74283 non-null  object \n",
      " 18  Marital Status                        74283 non-null  object \n",
      " 19  Genetic Risk Factor (APOE-ε4 allele)  74283 non-null  object \n",
      " 20  Social Engagement Level               74283 non-null  object \n",
      " 21  Income Level                          74283 non-null  object \n",
      " 22  Stress Levels                         74283 non-null  object \n",
      " 23  Urban vs Rural Living                 74283 non-null  object \n",
      " 24  Alzheimer’s Diagnosis                 74283 non-null  object \n",
      "dtypes: float64(1), int64(3), object(21)\n",
      "memory usage: 14.2+ MB\n"
     ]
    }
   ],
   "source": [
    "df.info()"
   ]
  },
  {
   "cell_type": "markdown",
   "id": "22c10dd4-2c87-47d8-be3a-e06821ccc332",
   "metadata": {
    "collapsed": false,
    "jupyter": {
     "outputs_hidden": false
    }
   },
   "source": [
    "Distribución de variable objetivo\n",
    "\n",
    "Esto ayuda a identificar si la variable objetivo está balanceada o no"
   ]
  },
  {
   "cell_type": "code",
   "execution_count": 13,
   "id": "7a4c3eab-0007-4524-844b-76239ae5e13a",
   "metadata": {
    "collapsed": false,
    "jupyter": {
     "outputs_hidden": false
    }
   },
   "outputs": [
    {
     "name": "stdout",
     "output_type": "stream",
     "text": [
      "['Country', 'Age', 'Gender', 'Education Level', 'BMI', 'Physical Activity Level', 'Smoking Status', 'Alcohol Consumption', 'Diabetes', 'Hypertension', 'Cholesterol Level', 'Family History of Alzheimer’s', 'Cognitive Test Score', 'Depression Level', 'Sleep Quality', 'Dietary Habits', 'Air Pollution Exposure', 'Employment Status', 'Marital Status', 'Genetic Risk Factor (APOE-ε4 allele)', 'Social Engagement Level', 'Income Level', 'Stress Levels', 'Urban vs Rural Living', 'Alzheimer’s Diagnosis']\n"
     ]
    }
   ],
   "source": [
    "print(df.columns.tolist())"
   ]
  },
  {
   "cell_type": "markdown",
   "id": "fd025a2c-599f-4706-be2f-5dfa2ae1ab22",
   "metadata": {
    "collapsed": false,
    "jupyter": {
     "outputs_hidden": false
    }
   },
   "source": [
    "– ¿Cuántos datos tienes, cuántas filas, cuántas columnas?\n",
    "\n",
    "Hay 1857075 datos, 74,283 filas y 25 columnas.\n",
    "\n",
    "– ¿Hay datos faltantes?\n",
    "\n",
    "El dataset no muestra datos faltantes\n",
    "\n",
    "– ¿Hay contenido redundante o duplicado?\n",
    "\n",
    "No se encuentran datos repetidos en el dataset, sin embargo algunas posibles columnas redundantes son:\n",
    "\n",
    "* Country: No aporta información para la predicción individual.\n",
    "* Cognitive Test Score: Correlacionada con la variable objetivo.\n",
    "* Employment Status, Marital Status, Income Level, Urban vs Rural Living:\n",
    " Podrían estar cubiertas por otras variables como Social Engagement Level o Education Level.\n",
    "\n",
    "– ¿Cuál es la distribución de los datos en la clase objetivo?\n",
    "\n",
    "Alzheimer’s Diagnosis (Variable Objetivo):\n",
    "* No (sin Alzheimer): 58.65%\n",
    "* Sí (con Alzheimer): 41.35%\n",
    "\n",
    "La distribución no está completamente balanceada, pero no es un caso extremo de desbalanceo, así que se puede dejar como está\n",
    "\n",
    "– ¿Existen correlaciones entre las categorías?\n",
    "\n",
    "De acuerdo con la matriz, no hay correlaciones significativas entre las variables numéricas\n",
    "\n",
    "Age, Education Level, BMI, y Cognitive Test Score tienen valores de correlación cercanos a 0 entre sí, indicando que no hay relaciones lineales fuertes entre estas variables.\n",
    "\n",
    "\n",
    "Dado que no hay una relación fuerte entre las variables numéricas, no parece haber redundancia dentro de ellas."
   ]
  },
  {
   "cell_type": "code",
   "execution_count": 14,
   "id": "ed28b13a-d48c-4ec8-b0a1-088e59013f50",
   "metadata": {
    "collapsed": false,
    "jupyter": {
     "outputs_hidden": false
    }
   },
   "outputs": [],
   "source": [
    "df.drop(columns=[\n",
    "    \"Country\",\n",
    "    \"Cognitive Test Score\",\n",
    "    \"Employment Status\",\n",
    "    \"Marital Status\",\n",
    "    \"Income Level\",\n",
    "    \"Urban vs Rural Living\"\n",
    "], inplace=True)\n",
    "\n",
    "\n",
    "df_processed = df\n",
    "\n",
    "label_cols = [\n",
    "    \"Smoking Status\", \"Alcohol Consumption\", \"Dietary Habits\"\n",
    "]\n",
    "\n",
    "label_encoder = LabelEncoder()\n",
    "for col in label_cols:\n",
    "    df_processed[col] = label_encoder.fit_transform(df[col])\n",
    "\n",
    "one_hot_cols = [\n",
    "    \"Gender\", \"Diabetes\", \"Hypertension\", \"Genetic Risk Factor (APOE-ε4 allele)\", \n",
    "    \"Alzheimer’s Diagnosis\", \"Family History of Alzheimer’s\"\n",
    "]\n",
    "\n",
    "df_processed = pd.get_dummies(df_processed, columns = one_hot_cols, drop_first=True)\n",
    "\n",
    "ordinal_cols = [\n",
    "    \"Physical Activity Level\", \"Cholesterol Level\", \"Depression Level\", \"Sleep Quality\", \n",
    "    \"Air Pollution Exposure\", \"Social Engagement Level\", \"Stress Levels\"\n",
    "]\n",
    "\n",
    "ordinal_mappings = { \n",
    "    \"Physical Activity Level\": [\"Low\", \"Medium\", \"High\"],\n",
    "    \"Cholesterol Level\": [\"Normal\", \"High\"],\n",
    "    \"Depression Level\": [\"Low\", \"Medium\", \"High\",],\n",
    "    \"Sleep Quality\": [\"Poor\", \"Average\", \"Good\"],\n",
    "    \"Air Pollution Exposure\": [\"Low\", \"Medium\", \"High\"],\n",
    "    \"Social Engagement Level\": [\"Low\", \"Medium\", \"High\"],\n",
    "    \"Stress Levels\": [\"Low\", \"Medium\", \"High\"]\n",
    "}\n",
    "\n",
    "ordinal_encoder = OrdinalEncoder(categories=[ordinal_mappings[col] for col in ordinal_cols])\n",
    "df_processed[ordinal_cols] = ordinal_encoder.fit_transform(df_processed[ordinal_cols])"
   ]
  },
  {
   "cell_type": "code",
   "execution_count": 15,
   "id": "ea692ea0-d33d-4ebf-bda3-4a6d0b1b7e6f",
   "metadata": {
    "collapsed": false,
    "jupyter": {
     "outputs_hidden": false
    }
   },
   "outputs": [
    {
     "name": "stdout",
     "output_type": "stream",
     "text": [
      "<class 'pandas.core.frame.DataFrame'>\n",
      "RangeIndex: 74283 entries, 0 to 74282\n",
      "Data columns (total 19 columns):\n",
      " #   Column                                    Non-Null Count  Dtype  \n",
      "---  ------                                    --------------  -----  \n",
      " 0   Age                                       74283 non-null  int64  \n",
      " 1   Education Level                           74283 non-null  int64  \n",
      " 2   BMI                                       74283 non-null  float64\n",
      " 3   Physical Activity Level                   74283 non-null  float64\n",
      " 4   Smoking Status                            74283 non-null  int64  \n",
      " 5   Alcohol Consumption                       74283 non-null  int64  \n",
      " 6   Cholesterol Level                         74283 non-null  float64\n",
      " 7   Depression Level                          74283 non-null  float64\n",
      " 8   Sleep Quality                             74283 non-null  float64\n",
      " 9   Dietary Habits                            74283 non-null  int64  \n",
      " 10  Air Pollution Exposure                    74283 non-null  float64\n",
      " 11  Social Engagement Level                   74283 non-null  float64\n",
      " 12  Stress Levels                             74283 non-null  float64\n",
      " 13  Gender_Male                               74283 non-null  bool   \n",
      " 14  Diabetes_Yes                              74283 non-null  bool   \n",
      " 15  Hypertension_Yes                          74283 non-null  bool   \n",
      " 16  Genetic Risk Factor (APOE-ε4 allele)_Yes  74283 non-null  bool   \n",
      " 17  Alzheimer’s Diagnosis_Yes                 74283 non-null  bool   \n",
      " 18  Family History of Alzheimer’s_Yes         74283 non-null  bool   \n",
      "dtypes: bool(6), float64(8), int64(5)\n",
      "memory usage: 7.8 MB\n"
     ]
    }
   ],
   "source": [
    "df_processed.info()"
   ]
  },
  {
   "cell_type": "code",
   "execution_count": 16,
   "id": "8802383d-248b-44cc-9613-915f93190a86",
   "metadata": {
    "collapsed": false,
    "jupyter": {
     "outputs_hidden": false
    }
   },
   "outputs": [
    {
     "data": {
      "image/png": "[encoded data removed]",
      "text/plain": [
       "<Figure size 600x400 with 1 Axes>"
      ]
     },
     "metadata": {},
     "output_type": "display_data"
    }
   ],
   "source": [
    "target_column = df_processed['Alzheimer’s Diagnosis_Yes']\n",
    "\n",
    "plt.figure(figsize=(6, 4))\n",
    "sns.countplot(x=target_column, data=df_processed, palette=\"viridis\")\n",
    "plt.title(\"Distribución de Alzheimer’s Diagnosis\")\n",
    "plt.xlabel(\"Diagnóstico de Alzheimer\")\n",
    "plt.ylabel(\"Frecuencia\")\n",
    "plt.show()"
   ]
  },
  {
   "cell_type": "markdown",
   "id": "93badc0d-fb53-4f50-bf38-01f105345955",
   "metadata": {
    "collapsed": false,
    "jupyter": {
     "outputs_hidden": false
    }
   },
   "source": [
    "Matriz de Correlación\n",
    "\n",
    "Se genera la matriz para analizar las correlaciones entre variables numéricas y detectar posibles relaciones"
   ]
  },
  {
   "cell_type": "code",
   "execution_count": 17,
   "id": "f9a41c64-6810-48b4-922c-a756c73773f9",
   "metadata": {
    "collapsed": false,
    "jupyter": {
     "outputs_hidden": false
    }
   },
   "outputs": [
    {
     "data": {
      "image/png": "[encoded data removed]",
      "text/plain": [
       "<Figure size 2000x2000 with 2 Axes>"
      ]
     },
     "metadata": {},
     "output_type": "display_data"
    }
   ],
   "source": [
    "plt.figure(figsize=(20, 20))\n",
    "sns.heatmap(df_processed.corr(), annot=True, fmt=\".2%\", mask=np.triu(np.ones_like(df_processed.corr())))\n",
    "plt.title(\"Matriz de correlación de variables numéricas\")\n",
    "plt.show()"
   ]
  },
  {
   "cell_type": "markdown",
   "id": "a5ced0b3-5f30-4c7d-a17f-98d32a11d254",
   "metadata": {
    "collapsed": false,
    "jupyter": {
     "outputs_hidden": false
    }
   },
   "source": [
    "Separación de datos\n",
    "\n",
    "Se separan los datos en entrenamiento y prueba en una proporción 80%-20%"
   ]
  },
  {
   "cell_type": "code",
   "execution_count": 18,
   "id": "7fe0da0d-9212-4a47-949b-8475a679fa78",
   "metadata": {
    "collapsed": false,
    "jupyter": {
     "outputs_hidden": false
    }
   },
   "outputs": [],
   "source": [
    "X = df_processed.drop(columns=[\"Alzheimer’s Diagnosis_Yes\"])\n",
    "y = df_processed[\"Alzheimer’s Diagnosis_Yes\"]\n",
    "X_train, X_test, y_train, y_test = train_test_split(X, y, test_size=0.2, random_state=42)"
   ]
  },
  {
   "cell_type": "markdown",
   "id": "89fb6221-cbd9-4aae-a8eb-2c36c9c0e982",
   "metadata": {
    "collapsed": false,
    "jupyter": {
     "outputs_hidden": false
    }
   },
   "source": [
    "Escalado de variables numericas\n",
    "\n",
    "Se normalizan variables numéricas usando StandardScaler o MinMaxScaler para mejorar el desempeño de los modelos"
   ]
  },
  {
   "cell_type": "code",
   "execution_count": 19,
   "id": "29bc3639-a52c-4b0d-ab3b-de4117c33489",
   "metadata": {
    "collapsed": false,
    "jupyter": {
     "outputs_hidden": false
    }
   },
   "outputs": [],
   "source": [
    "numerical_columns = [\"Age\", \"Education Level\", \"BMI\"]\n",
    "scaler = StandardScaler()\n",
    "X_train[numerical_columns] = scaler.fit_transform(X_train[numerical_columns])\n",
    "X_test[numerical_columns] = scaler.transform(X_test[numerical_columns])"
   ]
  },
  {
   "cell_type": "code",
   "execution_count": 20,
   "id": "2aa1f165-3267-4e9b-b190-ba6994fb29e0",
   "metadata": {
    "collapsed": false,
    "jupyter": {
     "outputs_hidden": false
    }
   },
   "outputs": [
    {
     "name": "stdout",
     "output_type": "stream",
     "text": [
      "\n",
      "--- Información después del preprocesamiento ---\n",
      "<class 'pandas.core.frame.DataFrame'>\n",
      "Index: 59426 entries, 14565 to 15795\n",
      "Data columns (total 18 columns):\n",
      " #   Column                                    Non-Null Count  Dtype  \n",
      "---  ------                                    --------------  -----  \n",
      " 0   Age                                       59426 non-null  float64\n",
      " 1   Education Level                           59426 non-null  float64\n",
      " 2   BMI                                       59426 non-null  float64\n",
      " 3   Physical Activity Level                   59426 non-null  float64\n",
      " 4   Smoking Status                            59426 non-null  int64  \n",
      " 5   Alcohol Consumption                       59426 non-null  int64  \n",
      " 6   Cholesterol Level                         59426 non-null  float64\n",
      " 7   Depression Level                          59426 non-null  float64\n",
      " 8   Sleep Quality                             59426 non-null  float64\n",
      " 9   Dietary Habits                            59426 non-null  int64  \n",
      " 10  Air Pollution Exposure                    59426 non-null  float64\n",
      " 11  Social Engagement Level                   59426 non-null  float64\n",
      " 12  Stress Levels                             59426 non-null  float64\n",
      " 13  Gender_Male                               59426 non-null  bool   \n",
      " 14  Diabetes_Yes                              59426 non-null  bool   \n",
      " 15  Hypertension_Yes                          59426 non-null  bool   \n",
      " 16  Genetic Risk Factor (APOE-ε4 allele)_Yes  59426 non-null  bool   \n",
      " 17  Family History of Alzheimer’s_Yes         59426 non-null  bool   \n",
      "dtypes: bool(5), float64(10), int64(3)\n",
      "memory usage: 6.6 MB\n",
      "None\n",
      "\n",
      "--- Primeras Filas del Dataset Preprocesado ---\n",
      "            Age  Education Level       BMI  Physical Activity Level  \\\n",
      "14565 -1.462110        -0.083557 -1.485420                      0.0   \n",
      "7007   1.539648        -0.083557  0.928904                      1.0   \n",
      "40329 -0.615460        -0.777133 -1.275479                      2.0   \n",
      "21854  1.000871         1.303594 -1.611385                      0.0   \n",
      "74204 -1.308174        -0.950527 -1.296473                      1.0   \n",
      "\n",
      "       Smoking Status  Alcohol Consumption  Cholesterol Level  \\\n",
      "14565               0                    1                1.0   \n",
      "7007                0                    2                0.0   \n",
      "40329               2                    2                0.0   \n",
      "21854               0                    1                0.0   \n",
      "74204               0                    1                1.0   \n",
      "\n",
      "       Depression Level  Sleep Quality  Dietary Habits  \\\n",
      "14565               1.0            0.0               2   \n",
      "7007                0.0            0.0               1   \n",
      "40329               2.0            2.0               2   \n",
      "21854               0.0            0.0               2   \n",
      "74204               2.0            0.0               2   \n",
      "\n",
      "       Air Pollution Exposure  Social Engagement Level  Stress Levels  \\\n",
      "14565                     1.0                      0.0            0.0   \n",
      "7007                      2.0                      0.0            0.0   \n",
      "40329                     0.0                      2.0            0.0   \n",
      "21854                     1.0                      0.0            0.0   \n",
      "74204                     2.0                      1.0            1.0   \n",
      "\n",
      "       Gender_Male  Diabetes_Yes  Hypertension_Yes  \\\n",
      "14565         True         False             False   \n",
      "7007         False         False              True   \n",
      "40329        False         False              True   \n",
      "21854         True         False             False   \n",
      "74204        False          True              True   \n",
      "\n",
      "       Genetic Risk Factor (APOE-ε4 allele)_Yes  \\\n",
      "14565                                     False   \n",
      "7007                                      False   \n",
      "40329                                     False   \n",
      "21854                                     False   \n",
      "74204                                     False   \n",
      "\n",
      "       Family History of Alzheimer’s_Yes  \n",
      "14565                              False  \n",
      "7007                                True  \n",
      "40329                               True  \n",
      "21854                               True  \n",
      "74204                               True  \n"
     ]
    }
   ],
   "source": [
    "print(\"\\n--- Información después del preprocesamiento ---\")\n",
    "print(X_train.info())\n",
    "print(\"\\n--- Primeras Filas del Dataset Preprocesado ---\")\n",
    "print(X_train.head())"
   ]
  },
  {
   "cell_type": "markdown",
   "id": "c26b7900-2f2c-46bd-939e-21a9fd4696ad",
   "metadata": {
    "collapsed": false,
    "jupyter": {
     "outputs_hidden": false
    }
   },
   "source": [
    "# Procesamiento"
   ]
  },
  {
   "cell_type": "markdown",
   "id": "6b126827-a37f-49c4-a576-f41411e6e3f7",
   "metadata": {
    "collapsed": false,
    "jupyter": {
     "outputs_hidden": false
    }
   },
   "source": [
    "Aplicación de técnicas de balanceo"
   ]
  },
  {
   "cell_type": "markdown",
   "id": "5e2aeeb4-ca74-46ec-9d40-15731c591009",
   "metadata": {
    "collapsed": false
   },
   "source": [
    "Random Over Sampling\n",
    "Duplica algunos ejemplos de nuestra clase minoritaria para estar a la par de la mayoritaria"
   ]
  },
  {
   "cell_type": "markdown",
   "id": "01132647-51fc-4a1d-adee-d1c7088149d6",
   "metadata": {
    "collapsed": false
   },
   "source": [
    "Random Under Sampling\n",
    "Elimina ejemplos de la clase mayoritaria para estar a la par de la minoritaria"
   ]
  },
  {
   "cell_type": "markdown",
   "id": "c9337bd1-33ad-485b-945d-c1951ba33675",
   "metadata": {
    "collapsed": false,
    "jupyter": {
     "outputs_hidden": false
    }
   },
   "source": [
    "Near-miss\n",
    "Reduce la cantidad de muestras de la clase mayoritaria"
   ]
  },
  {
   "cell_type": "code",
   "execution_count": 21,
   "id": "a4fb297d-4ad7-48a9-8572-11f2456bfcf9",
   "metadata": {
    "collapsed": false,
    "jupyter": {
     "outputs_hidden": false
    }
   },
   "outputs": [],
   "source": [
    "# undersampling\n",
    "nearmiss = NearMiss()\n",
    "X_train_nm, y_train_nm = nearmiss.fit_resample(X_train, y_train)"
   ]
  },
  {
   "cell_type": "markdown",
   "id": "039d6a1e-9650-4f0e-81d4-c91bd47a8338",
   "metadata": {
    "collapsed": false,
    "jupyter": {
     "outputs_hidden": false
    }
   },
   "source": [
    "SMOTE\n",
    "\n",
    "Genera nuevas muestras sintéticas para la clase minoritaria"
   ]
  },
  {
   "cell_type": "code",
   "execution_count": 22,
   "id": "23d8e57d-8ee9-49c7-b96a-1d17ea7f6ed0",
   "metadata": {
    "collapsed": false,
    "jupyter": {
     "outputs_hidden": false
    }
   },
   "outputs": [],
   "source": [
    "# oversampling\n",
    "smote = SMOTE()\n",
    "X_train_sm, y_train_sm = smote.fit_resample(X_train, y_train)"
   ]
  },
  {
   "cell_type": "markdown",
   "id": "8db02de8-3dfb-40f2-9635-e313710d420d",
   "metadata": {
    "collapsed": false,
    "jupyter": {
     "outputs_hidden": false
    }
   },
   "source": [
    "Definición y entrenamiento de modelos\n",
    "\n",
    "Se entrena y evalúa cada modelo con los datasets original, Near Miss y SMOTE"
   ]
  },
  {
   "cell_type": "code",
   "execution_count": 23,
   "id": "1da53391-00f0-4bac-b064-1944d5cfe817",
   "metadata": {
    "collapsed": false,
    "jupyter": {
     "outputs_hidden": false
    }
   },
   "outputs": [],
   "source": [
    "models = {\n",
    "    \"Decision Tree\": tree.DecisionTreeClassifier(random_state=42),\n",
    "    \"Logistic Regression\": LogisticRegression(max_iter=1000, random_state=42),\n",
    "    \"SVM\": SVC()\n",
    "}"
   ]
  },
  {
   "cell_type": "code",
   "execution_count": 24,
   "id": "aeada47c-450f-4a70-b09d-bb56de36ee66",
   "metadata": {
    "collapsed": false,
    "jupyter": {
     "outputs_hidden": false
    }
   },
   "outputs": [],
   "source": [
    "results = []\n",
    "for model_name, model in models.items():\n",
    "    for dataset_name, X_tr, y_tr in zip([\"Original\", \"Near Miss\", \"SMOTE\"],\n",
    "                                        [X_train, X_train_nm, X_train_sm],\n",
    "                                        [y_train, y_train_nm, y_train_sm]):\n",
    "        model.fit(X_tr, y_tr)\n",
    "        y_pred = model.predict(X_test)\n",
    "        accuracy = accuracy_score(y_test, y_pred)\n",
    "        results.append([model_name, dataset_name, accuracy])"
   ]
  },
  {
   "cell_type": "markdown",
   "id": "d21c588a-3a78-4793-b06a-fa6a0bbe3f8c",
   "metadata": {
    "collapsed": false,
    "jupyter": {
     "outputs_hidden": false
    }
   },
   "source": [
    "Red neuronal\n",
    "\n",
    "Se implementa una red neuronal con capas densas y dropout para evitar sobreajuste"
   ]
  },
  {
   "cell_type": "code",
   "execution_count": 25,
   "id": "dec1f2b2-1d71-4f68-a8bd-55e44fecc3ed",
   "metadata": {
    "collapsed": false,
    "jupyter": {
     "outputs_hidden": false
    }
   },
   "outputs": [],
   "source": [
    "def train_neural_network(X_train, y_train, X_test, y_test, dataset_name):\n",
    "    model = Sequential()\n",
    "    model.add(Dense(64, activation='relu', input_shape=(X_train.shape[1],)))\n",
    "    model.add(Dropout(0.5))\n",
    "    model.add(Dense(32, activation='relu'))\n",
    "    model.add(Dropout(0.5))\n",
    "    model.add(Dense(1, activation='sigmoid'))\n",
    "\n",
    "    model.compile(optimizer='adam', loss='binary_crossentropy', metrics=['accuracy'])\n",
    "\n",
    "    model.fit(X_train, y_train, epochs=10, batch_size=128, validation_split=0.2, verbose=0)\n",
    "\n",
    "    _, accuracy = model.evaluate(X_test, y_test, verbose=0)\n",
    "    results.append([\"Neural Network\", dataset_name, accuracy])"
   ]
  },
  {
   "cell_type": "code",
   "execution_count": 26,
   "id": "71c4218f-3688-4c53-a895-b9e2c04c581c",
   "metadata": {
    "collapsed": false,
    "jupyter": {
     "outputs_hidden": false
    }
   },
   "outputs": [
    {
     "name": "stderr",
     "output_type": "stream",
     "text": [
      "I0000 00:00:1741273109.749133 2010287 gpu_device.cc:2022] Created device /job:localhost/replica:0/task:0/device:GPU:0 with 22265 MB memory:  -> device: 0, name: NVIDIA GeForce RTX 3090, pci bus id: 0000:01:00.0, compute capability: 8.6\n",
      "WARNING: All log messages before absl::InitializeLog() is called are written to STDERR\n",
      "I0000 00:00:1741273110.693650 2010817 service.cc:148] XLA service 0x7ed380006870 initialized for platform CUDA (this does not guarantee that XLA will be used). Devices:\n",
      "I0000 00:00:1741273110.693671 2010817 service.cc:156]   StreamExecutor device (0): NVIDIA GeForce RTX 3090, Compute Capability 8.6\n",
      "2025-03-06 08:58:30.706685: I tensorflow/compiler/mlir/tensorflow/utils/dump_mlir_util.cc:268] disabling MLIR crash reproducer, set env var `MLIR_CRASH_REPRODUCER_DIRECTORY` to enable.\n",
      "I0000 00:00:1741273110.777896 2010817 cuda_dnn.cc:529] Loaded cuDNN version 90300\n",
      "I0000 00:00:1741273111.220765 2010817 device_compiler.h:188] Compiled cluster using XLA!  This line is logged at most once for the lifetime of the process.\n"
     ]
    }
   ],
   "source": [
    "train_neural_network(X_train, y_train, X_test, y_test, \"Original\")\n",
    "train_neural_network(X_train_nm, y_train_nm, X_test, y_test, \"Near Miss\")\n",
    "train_neural_network(X_train_sm, y_train_sm, X_test, y_test, \"SMOTE\")"
   ]
  },
  {
   "cell_type": "code",
   "execution_count": 27,
   "id": "1caf40b8-e99b-4a9b-b839-a9d1ede137e8",
   "metadata": {
    "collapsed": false,
    "jupyter": {
     "outputs_hidden": false
    }
   },
   "outputs": [
    {
     "name": "stdout",
     "output_type": "stream",
     "text": [
      "                 Modelo    Dataset  Accuracy\n",
      "0         Decision Tree   Original  0.630477\n",
      "1         Decision Tree  Near Miss  0.604967\n",
      "2         Decision Tree      SMOTE  0.628795\n",
      "3   Logistic Regression   Original  0.711584\n",
      "4   Logistic Regression  Near Miss  0.697853\n",
      "5   Logistic Regression      SMOTE  0.711988\n",
      "6                   SVM   Original  0.717440\n",
      "7                   SVM  Near Miss  0.698862\n",
      "8                   SVM      SMOTE  0.715891\n",
      "9        Neural Network   Original  0.715016\n",
      "10       Neural Network  Near Miss  0.687016\n",
      "11       Neural Network      SMOTE  0.717843\n"
     ]
    }
   ],
   "source": [
    "results_df = pd.DataFrame(results, columns=[\"Modelo\", \"Dataset\", \"Accuracy\"])\n",
    "print(results_df)"
   ]
  },
  {
   "cell_type": "markdown",
   "id": "84109159-1f8d-4c39-b35c-d057382ab53b",
   "metadata": {
    "collapsed": false,
    "jupyter": {
     "outputs_hidden": false
    }
   },
   "source": [
    "# Logistic Regression"
   ]
  },
  {
   "cell_type": "code",
   "execution_count": 28,
   "id": "1a43f777-7584-49cc-9767-2cf408fe6767",
   "metadata": {
    "collapsed": false,
    "jupyter": {
     "outputs_hidden": false
    }
   },
   "outputs": [
    {
     "name": "stdout",
     "output_type": "stream",
     "text": [
      "61426 61426\n"
     ]
    }
   ],
   "source": [
    "# Random Under Sampling\n",
    "undersampler = RandomUnderSampler(random_state=42)\n",
    "X_under, y_under = undersampler.fit_resample(X, y)\n",
    "print(len(X_under), len(y_under))\n",
    "X_train, X_test, y_train, y_test = train_test_split(X_under, y_under, test_size=0.2, random_state=42)\n",
    "model = LogisticRegression(class_weight='balanced' , max_iter=1000 , random_state=42)\n",
    "model.fit(X_train, y_train)\n",
    "model.score(X_test, y_test)\n",
    "results.append([\"Logistic Regression\", 'Random Under Sampling', model.score(X_test, y_test)])"
   ]
  },
  {
   "cell_type": "code",
   "execution_count": 29,
   "id": "75ad3c69-2c72-4a44-a7de-d1abe4355d45",
   "metadata": {
    "collapsed": false,
    "jupyter": {
     "outputs_hidden": false
    }
   },
   "outputs": [
    {
     "name": "stdout",
     "output_type": "stream",
     "text": [
      "87140 87140\n"
     ]
    }
   ],
   "source": [
    "# Random Over Sampling\n",
    "oversampler = RandomOverSampler(random_state=42)\n",
    "X_over, y_over = oversampler.fit_resample(X, y)\n",
    "print(len(X_over), len(y_over))\n",
    "X_train, X_test, y_train, y_test = train_test_split(X_over, y_over, test_size=0.2, random_state=42)\n",
    "model = LogisticRegression(class_weight='balanced' , max_iter=1000 , random_state=42)\n",
    "model.fit(X_train, y_train)\n",
    "model.score(X_test, y_test)\n",
    "results.append([\"Logistic Regression\", 'Random Over Sampling', model.score(X_test, y_test)])"
   ]
  },
  {
   "cell_type": "markdown",
   "id": "0d9bb134-57cf-4ce9-8988-5231f1928549",
   "metadata": {
    "collapsed": false,
    "jupyter": {
     "outputs_hidden": false
    }
   },
   "source": [
    "# Decision Tree"
   ]
  },
  {
   "cell_type": "code",
   "execution_count": 30,
   "id": "6b8d1663-ccd2-4b1d-a700-f045734f4aac",
   "metadata": {
    "collapsed": false,
    "jupyter": {
     "outputs_hidden": false
    }
   },
   "outputs": [
    {
     "name": "stdout",
     "output_type": "stream",
     "text": [
      "61426 61426\n"
     ]
    }
   ],
   "source": [
    "# Random Under Sampling\n",
    "undersampler = RandomUnderSampler(random_state=42)\n",
    "X_under, y_under = undersampler.fit_resample(X, y)\n",
    "print(len(X_under), len(y_under))\n",
    "X_train, X_test, y_train, y_test = train_test_split(X_under, y_under, test_size=0.2, random_state=42)\n",
    "dt_under = tree.DecisionTreeClassifier()\n",
    "dt_under = dt_under.fit(X_train, y_train)\n",
    "dt_under.score(X_test, y_test)\n",
    "results.append([\"Decision Tree\", 'Random Under Sampling', dt_under.score(X_test, y_test)])"
   ]
  },
  {
   "cell_type": "code",
   "execution_count": 31,
   "id": "80301452-6581-4ceb-a70b-3d3cfc5d2fc8",
   "metadata": {
    "collapsed": false,
    "jupyter": {
     "outputs_hidden": false
    }
   },
   "outputs": [
    {
     "name": "stdout",
     "output_type": "stream",
     "text": [
      "87140 87140\n"
     ]
    }
   ],
   "source": [
    "# Random Over Sampling\n",
    "oversampler = RandomOverSampler(random_state=42)\n",
    "X_over, y_over = oversampler.fit_resample(X, y)\n",
    "print(len(X_over), len(y_over))\n",
    "X_train, X_test, y_train, y_test = train_test_split(X_over, y_over, test_size=0.2, random_state=42)\n",
    "dt_over = tree.DecisionTreeClassifier()\n",
    "dt_over = dt_over.fit(X_train, y_train)\n",
    "dt_over.score(X_test, y_test)\n",
    "results.append([\"Decision Tree\", 'Random Over Sampling', dt_over.score(X_test, y_test)])"
   ]
  },
  {
   "cell_type": "markdown",
   "id": "5584cf52-b99d-45a1-845a-5caa7ddb1cbc",
   "metadata": {
    "collapsed": false,
    "jupyter": {
     "outputs_hidden": false
    }
   },
   "source": [
    "# Redes Neuronales"
   ]
  },
  {
   "cell_type": "markdown",
   "id": "7a38c6a1-0204-4d33-875c-5ab3af098a9d",
   "metadata": {
    "collapsed": false
   },
   "source": [
    "Aquí continuación se usa el escalador MinMaxScaler, que en general nos dio mejores resultados. También, por alguna razón, nos dio algunos errores el intentar hacerlo con StandardScaler al principio."
   ]
  },
  {
   "cell_type": "code",
   "execution_count": 32,
   "id": "87003b8f-c74b-41db-80fb-f0c634869d65",
   "metadata": {
    "collapsed": false,
    "jupyter": {
     "outputs_hidden": false
    }
   },
   "outputs": [],
   "source": [
    "# MinMaxScaler\n",
    "scaler = MinMaxScaler()\n",
    "scaled_data = scaler.fit_transform(df_processed)\n",
    "df_scaled = pd.DataFrame(scaled_data, columns=df_processed.columns)\n"
   ]
  },
  {
   "cell_type": "code",
   "execution_count": 34,
   "id": "c2753218-1806-4e93-8f07-3de881420d95",
   "metadata": {
    "collapsed": false,
    "jupyter": {
     "outputs_hidden": false
    }
   },
   "outputs": [
    {
     "name": "stdout",
     "output_type": "stream",
     "text": [
      "Epoch 1/10\n",
      "\u001b[1m3072/3072\u001b[0m \u001b[32m━━━━━━━━━━━━━━━━━━━━\u001b[0m\u001b[37m\u001b[0m \u001b[1m3s\u001b[0m 832us/step - accuracy: 0.6693 - loss: 0.6021\n",
      "Epoch 2/10\n",
      "\u001b[1m3072/3072\u001b[0m \u001b[32m━━━━━━━━━━━━━━━━━━━━\u001b[0m\u001b[37m\u001b[0m \u001b[1m2s\u001b[0m 656us/step - accuracy: 0.7170 - loss: 0.5599\n",
      "Epoch 3/10\n",
      "\u001b[1m3072/3072\u001b[0m \u001b[32m━━━━━━━━━━━━━━━━━━━━\u001b[0m\u001b[37m\u001b[0m \u001b[1m2s\u001b[0m 675us/step - accuracy: 0.7168 - loss: 0.5584\n",
      "Epoch 4/10\n",
      "\u001b[1m3072/3072\u001b[0m \u001b[32m━━━━━━━━━━━━━━━━━━━━\u001b[0m\u001b[37m\u001b[0m \u001b[1m2s\u001b[0m 664us/step - accuracy: 0.7204 - loss: 0.5529\n",
      "Epoch 5/10\n",
      "\u001b[1m3072/3072\u001b[0m \u001b[32m━━━━━━━━━━━━━━━━━━━━\u001b[0m\u001b[37m\u001b[0m \u001b[1m2s\u001b[0m 670us/step - accuracy: 0.7245 - loss: 0.5504\n",
      "Epoch 6/10\n",
      "\u001b[1m3072/3072\u001b[0m \u001b[32m━━━━━━━━━━━━━━━━━━━━\u001b[0m\u001b[37m\u001b[0m \u001b[1m2s\u001b[0m 641us/step - accuracy: 0.7217 - loss: 0.5526\n",
      "Epoch 7/10\n",
      "\u001b[1m3072/3072\u001b[0m \u001b[32m━━━━━━━━━━━━━━━━━━━━\u001b[0m\u001b[37m\u001b[0m \u001b[1m2s\u001b[0m 656us/step - accuracy: 0.7206 - loss: 0.5525\n",
      "Epoch 8/10\n",
      "\u001b[1m3072/3072\u001b[0m \u001b[32m━━━━━━━━━━━━━━━━━━━━\u001b[0m\u001b[37m\u001b[0m \u001b[1m2s\u001b[0m 666us/step - accuracy: 0.7208 - loss: 0.5534\n",
      "Epoch 9/10\n",
      "\u001b[1m3072/3072\u001b[0m \u001b[32m━━━━━━━━━━━━━━━━━━━━\u001b[0m\u001b[37m\u001b[0m \u001b[1m2s\u001b[0m 684us/step - accuracy: 0.7238 - loss: 0.5478\n",
      "Epoch 10/10\n",
      "\u001b[1m3072/3072\u001b[0m \u001b[32m━━━━━━━━━━━━━━━━━━━━\u001b[0m\u001b[37m\u001b[0m \u001b[1m2s\u001b[0m 681us/step - accuracy: 0.7270 - loss: 0.5459\n"
     ]
    }
   ],
   "source": [
    "# Under Sampler\n",
    "undersampler = RandomUnderSampler(random_state=42)\n",
    "X_under, y_under = undersampler.fit_resample(X, y)\n",
    "X_train, X_test, y_train, y_test = train_test_split(X_under, y_under, test_size=0.2, random_state=42)\n",
    "model = keras.Sequential([])\n",
    "model.add(keras.Input(shape=(X_train.shape[1],)))\n",
    "model.add(keras.layers.Dense(32, activation='relu'))\n",
    "model.add(keras.layers.Dense(16, activation='relu'))\n",
    "model.add(keras.layers.Dense(8, activation='relu'))\n",
    "model.add(keras.layers.Dense(1, activation='sigmoid'))\n",
    "model.compile(optimizer='adam', loss='binary_crossentropy', metrics=['accuracy'])\n",
    "\n",
    "history = model.fit(X_train, y_train, batch_size=16, epochs=10)\n",
    "res_nn = model.evaluate(X_test, y_test)\n",
    "print(res_nn)\n",
    "train_accuracy = history.history['accuracy'][-1]\n",
    "results.append([\"Neural Network\", 'Random Under Sampling', train_accuracy])"
   ]
  },
  {
   "cell_type": "code",
   "execution_count": 35,
   "id": "6c9532f9-e25f-40e7-97b1-31404d92e0ec",
   "metadata": {
    "collapsed": false,
    "jupyter": {
     "outputs_hidden": false
    }
   },
   "outputs": [
    {
     "name": "stdout",
     "output_type": "stream",
     "text": [
      "Epoch 1/10\n",
      "\u001b[1m4357/4357\u001b[0m \u001b[32m━━━━━━━━━━━━━━━━━━━━\u001b[0m\u001b[37m\u001b[0m \u001b[1m4s\u001b[0m 658us/step - accuracy: 0.6690 - loss: 0.6023\n",
      "Epoch 2/10\n",
      "\u001b[1m4357/4357\u001b[0m \u001b[32m━━━━━━━━━━━━━━━━━━━━\u001b[0m\u001b[37m\u001b[0m \u001b[1m3s\u001b[0m 690us/step - accuracy: 0.7130 - loss: 0.5631\n",
      "Epoch 3/10\n",
      "\u001b[1m4357/4357\u001b[0m \u001b[32m━━━━━━━━━━━━━━━━━━━━\u001b[0m\u001b[37m\u001b[0m \u001b[1m3s\u001b[0m 640us/step - accuracy: 0.7155 - loss: 0.5593\n",
      "Epoch 4/10\n",
      "\u001b[1m4357/4357\u001b[0m \u001b[32m━━━━━━━━━━━━━━━━━━━━\u001b[0m\u001b[37m\u001b[0m \u001b[1m3s\u001b[0m 633us/step - accuracy: 0.7191 - loss: 0.5569\n",
      "Epoch 5/10\n",
      "\u001b[1m4357/4357\u001b[0m \u001b[32m━━━━━━━━━━━━━━━━━━━━\u001b[0m\u001b[37m\u001b[0m \u001b[1m3s\u001b[0m 668us/step - accuracy: 0.7208 - loss: 0.5542\n",
      "Epoch 6/10\n",
      "\u001b[1m4357/4357\u001b[0m \u001b[32m━━━━━━━━━━━━━━━━━━━━\u001b[0m\u001b[37m\u001b[0m \u001b[1m3s\u001b[0m 650us/step - accuracy: 0.7236 - loss: 0.5517\n",
      "Epoch 7/10\n",
      "\u001b[1m4357/4357\u001b[0m \u001b[32m━━━━━━━━━━━━━━━━━━━━\u001b[0m\u001b[37m\u001b[0m \u001b[1m3s\u001b[0m 683us/step - accuracy: 0.7210 - loss: 0.5530\n",
      "Epoch 8/10\n",
      "\u001b[1m4357/4357\u001b[0m \u001b[32m━━━━━━━━━━━━━━━━━━━━\u001b[0m\u001b[37m\u001b[0m \u001b[1m3s\u001b[0m 665us/step - accuracy: 0.7239 - loss: 0.5488\n",
      "Epoch 9/10\n",
      "\u001b[1m4357/4357\u001b[0m \u001b[32m━━━━━━━━━━━━━━━━━━━━\u001b[0m\u001b[37m\u001b[0m \u001b[1m3s\u001b[0m 666us/step - accuracy: 0.7226 - loss: 0.5500\n",
      "Epoch 10/10\n",
      "\u001b[1m4357/4357\u001b[0m \u001b[32m━━━━━━━━━━━━━━━━━━━━\u001b[0m\u001b[37m\u001b[0m \u001b[1m3s\u001b[0m 680us/step - accuracy: 0.7270 - loss: 0.5450\n"
     ]
    }
   ],
   "source": [
    "# Over Sampler\n",
    "oversampler = RandomOverSampler(random_state=42)\n",
    "X_over, y_over = oversampler.fit_resample(X, y)\n",
    "X_train, X_test, y_train, y_test = train_test_split(X_over, y_over, test_size=0.2, random_state=42)\n",
    "model = keras.Sequential([])\n",
    "model.add(keras.Input(shape=(X_train.shape[1],)))\n",
    "model.add(keras.layers.Dense(32, activation='relu'))\n",
    "model.add(keras.layers.Dense(16, activation='relu'))\n",
    "model.add(keras.layers.Dense(8, activation='relu'))\n",
    "model.add(keras.layers.Dense(1, activation='sigmoid'))\n",
    "model.compile(optimizer='adam', loss='binary_crossentropy', metrics=['accuracy'])\n",
    "\n",
    "history = model.fit(X_train, y_train, batch_size=16, epochs=10)\n",
    "res_nn = model.evaluate(X_test, y_test)\n",
    "print(res_nn)\n",
    "train_accuracy = history.history['accuracy'][-1]\n",
    "results.append([\"Neural Network\", 'Random Over Sampling', train_accuracy])"
   ]
  },
  {
   "cell_type": "markdown",
   "id": "c8205c32-b9eb-4daf-a7c0-4b5a37b4123b",
   "metadata": {
    "collapsed": false,
    "jupyter": {
     "outputs_hidden": false
    }
   },
   "source": [
    "# SVM"
   ]
  },
  {
   "cell_type": "code",
   "execution_count": 37,
   "id": "8ad745f4-4565-4483-9dd5-7df09d337e71",
   "metadata": {
    "collapsed": false,
    "jupyter": {
     "outputs_hidden": false
    }
   },
   "outputs": [],
   "source": [
    "# Random Under Sampling\n",
    "undersampler = RandomUnderSampler(random_state=42)\n",
    "X_under, y_under = undersampler.fit_resample(X, y)\n",
    "X_train, X_test, y_train, y_test = train_test_split(X_under, y_under, test_size=0.2, random_state=42)\n",
    "svm_under = SVC(kernel='rbf')\n",
    "svm_under.fit(X_train, y_train)\n",
    "svm_under.score(X_test, y_test)\n",
    "results.append([\"SVM\", 'Random Under Sampling', svm_under.score(X_test, y_test)])"
   ]
  },
  {
   "cell_type": "code",
   "execution_count": 38,
   "id": "a462607f-b1cb-4e00-b034-d0e7048144b0",
   "metadata": {
    "collapsed": false,
    "jupyter": {
     "outputs_hidden": false
    }
   },
   "outputs": [],
   "source": [
    "# Random Over Sampling\n",
    "oversampler = RandomOverSampler(random_state=42)\n",
    "X_over, y_over = oversampler.fit_resample(X, y)\n",
    "X_train, X_test, y_train, y_test = train_test_split(X_over, y_over, test_size=0.2, random_state=42)\n",
    "svm_over = SVC(kernel='rbf')\n",
    "svm_over.fit(X_train, y_train)\n",
    "svm_over.score(X_test, y_test)\n",
    "results.append([\"SVM\", 'Random Over Sampling', svm.score(X_test, y_test)])"
   ]
  },
  {
   "cell_type": "code",
   "execution_count": 39,
   "id": "72fe53bf-c852-4cc7-af0c-bfed39b64672",
   "metadata": {
    "collapsed": false,
    "jupyter": {
     "outputs_hidden": false
    }
   },
   "outputs": [
    {
     "name": "stdout",
     "output_type": "stream",
     "text": [
      "                 Modelo              Algoritmo  Accuracy\n",
      "0        Neural Network   Random Over Sampling  0.723893\n",
      "1        Neural Network  Random Under Sampling  0.723769\n",
      "2         Decision Tree   Random Over Sampling  0.721081\n",
      "3        Neural Network               Original  0.719618\n",
      "4        Neural Network                  SMOTE  0.717843\n",
      "5                   SVM               Original  0.717440\n",
      "6                   SVM                  SMOTE  0.715891\n",
      "7        Neural Network               Original  0.715016\n",
      "8   Logistic Regression   Random Over Sampling  0.714368\n",
      "9                   SVM  Random Under Sampling  0.714146\n",
      "10  Logistic Regression                  SMOTE  0.711988\n",
      "11  Logistic Regression               Original  0.711584\n",
      "12                  SVM   Random Over Sampling  0.708228\n",
      "13  Logistic Regression  Random Under Sampling  0.707065\n",
      "14                  SVM               Original  0.705930\n",
      "15                  SVM              Near Miss  0.698862\n",
      "16  Logistic Regression              Near Miss  0.697853\n",
      "17       Neural Network              Near Miss  0.687016\n",
      "18        Decision Tree               Original  0.630477\n",
      "19        Decision Tree                  SMOTE  0.628795\n",
      "20        Decision Tree  Random Under Sampling  0.619160\n",
      "21        Decision Tree              Near Miss  0.604967\n"
     ]
    }
   ],
   "source": [
    "sorted_results = sorted(results, key=lambda x: x[2], reverse=True)\n",
    "results_df = pd.DataFrame(sorted_results, columns=[\"Modelo\", \"Algoritmo\", \"Accuracy\"])\n",
    "print(results_df)"
   ]
  },
  {
   "cell_type": "markdown",
   "id": "02dff81e-bf0b-4713-955c-96f1f37d6e54",
   "metadata": {
    "collapsed": false,
    "jupyter": {
     "outputs_hidden": false
    }
   },
   "source": [
    "Es importante denotar que puede que, debido a la cercanía entre precisiones, varíen los 3 mejores resultados.\n",
    "En nuestra última ejecución, se pudo observar que los mejores resultados fueron:\n",
    "\n",
    "Neural Network Over Sampling -> 0.7238\n",
    "Neural Network Under Sampling -> 0.7237\n",
    "Decision Tree Over Sampling -> 0.7168\n",
    "\n",
    "Se usarán estos modelos para PCA"
   ]
  },
  {
   "cell_type": "markdown",
   "id": "4e051e49-06aa-4ee0-9e69-15588a09b2ce",
   "metadata": {
    "collapsed": false,
    "jupyter": {
     "outputs_hidden": false
    }
   },
   "source": [
    "# PCA\n",
    "Se usa PCA para reducir la dimensionalidad (cantidad de variables) y eliminar ruido en los datos"
   ]
  },
  {
   "cell_type": "code",
   "execution_count": 40,
   "id": "206acb6e-97f1-4bb5-af60-04a280c26730",
   "metadata": {
    "collapsed": false,
    "jupyter": {
     "outputs_hidden": false
    }
   },
   "outputs": [
    {
     "name": "stdout",
     "output_type": "stream",
     "text": [
      "Número de componentes que forman el 90%:  14\n",
      "[np.float64(0.08450244021124571), np.float64(0.0714612621756472), np.float64(0.07098940474898259), np.float64(0.07039726356339245), np.float64(0.05740486798484598), np.float64(0.05696745633219404), np.float64(0.05677504956967029), np.float64(0.05655569863316771), np.float64(0.056250764379749456), np.float64(0.05603042353323885), np.float64(0.055852993834913246), np.float64(0.05558555228281508), np.float64(0.0554223810936733), np.float64(0.05368829594497714), np.float64(0.05340995705795337)]\n"
     ]
    }
   ],
   "source": [
    "X = df_scaled.drop(\"Alzheimer’s Diagnosis_Yes\", axis=1)\n",
    "y = df_scaled['Alzheimer’s Diagnosis_Yes']\n",
    "X_train, X_test, y_train, y_test = train_test_split(X, y, test_size=0.2, random_state=42)\n",
    "\n",
    "pca = PCA()\n",
    "X_train = pca.fit_transform(X_train)\n",
    "X_test = pca.transform(X_test)\n",
    "explained_variance = pca.explained_variance_ratio_\n",
    "reduced_exp_variance = list()\n",
    "\n",
    "total=0\n",
    "for n in range(len(explained_variance)):\n",
    "    total += explained_variance[n]\n",
    "    reduced_exp_variance.append(explained_variance[n])\n",
    "    if(total>0.9):\n",
    "        break\n",
    "print(\"Número de componentes que forman el 90%: \", n)\n",
    "print(reduced_exp_variance)\n"
   ]
  },
  {
   "cell_type": "markdown",
   "id": "f87f6d5d-bc83-4d28-8a7b-28149b18ec04",
   "metadata": {
    "collapsed": false,
    "jupyter": {
     "outputs_hidden": false
    }
   },
   "source": [
    "Visualización de la varianza explicada por los componentes principales"
   ]
  },
  {
   "cell_type": "code",
   "execution_count": 41,
   "id": "bdede59f-c100-4650-9944-1f69c5c9704d",
   "metadata": {
    "collapsed": false,
    "jupyter": {
     "outputs_hidden": false
    }
   },
   "outputs": [
    {
     "data": {
      "image/png": "[encoded data removed]",
      "text/plain": [
       "<Figure size 2000x700 with 1 Axes>"
      ]
     },
     "metadata": {},
     "output_type": "display_data"
    }
   ],
   "source": [
    "background_color = \"#ffffff\"\n",
    "fig = plt.figure(figsize=(20,7), facecolor=background_color)\n",
    "plt.bar(range(n+1), reduced_exp_variance, alpha=0.5, align='center', label='Individual Explained Variance')\n",
    "plt.ylabel('Explained Variance Ratio',  fontsize = 18)\n",
    "plt.xlabel('Principal Components', fontsize = 18)\n",
    "plt.title('Explained Variance Ratio vs Principal Components', fontsize = 25)\n",
    "plt.show()"
   ]
  },
  {
   "cell_type": "markdown",
   "id": "77201bab-c7d0-4bb6-8d05-7e4a51463056",
   "metadata": {
    "collapsed": false,
    "jupyter": {
     "outputs_hidden": false
    }
   },
   "source": [
    "Se muestra que el valor se encuentra en los primeros 14 componentes, ya que explican la mayor parte de la varianza; se utilizarán para la aplicación del PCA"
   ]
  },
  {
   "cell_type": "code",
   "execution_count": null,
   "id": "b5d33736-d64a-4d5b-9ddd-6f187cae5290",
   "metadata": {
    "collapsed": false
   },
   "outputs": [],
   "source": [
    "# Neural Network Random Over Sampler (1er Lugar)\n",
    "oversampler = RandomOverSampler(random_state=42)\n",
    "X_over, y_over = oversampler.fit_resample(X, y)\n",
    "X_train, X_test, y_train, y_test = train_test_split(X_over, y_over, test_size=0.2, random_state=42)\n",
    "\n",
    "pca = PCA(n_components=n)\n",
    "X_train = pca.fit_transform(X_train)\n",
    "X_test = pca.transform(X_test)\n",
    "\n",
    "model = keras.Sequential([])\n",
    "model.add(keras.Input(shape=(X_train.shape[1],)))\n",
    "model.add(keras.layers.Dense(32, activation='relu'))\n",
    "model.add(keras.layers.Dense(16, activation='relu'))\n",
    "model.add(keras.layers.Dense(8, activation='relu'))\n",
    "model.add(keras.layers.Dense(1, activation='sigmoid'))\n",
    "model.compile(optimizer='adam', loss='binary_crossentropy', metrics=['accuracy'])\n",
    "\n",
    "history = model.fit(X_train, y_train, batch_size=16, epochs=10)\n",
    "res_nn = model.evaluate(X_test, y_test)\n",
    "print(res_nn)\n",
    "train_accuracy = history.history['accuracy'][-1]\n",
    "print(train_accuracy)"
   ]
  },
  {
   "cell_type": "code",
   "execution_count": 1,
   "id": "f374a72f-cbf0-427e-a7c1-ed20d8b6a43d",
   "metadata": {
    "collapsed": false
   },
   "outputs": [
    {
     "ename": "NameError",
     "evalue": "name 'RandomUnderSampler' is not defined",
     "output_type": "error",
     "traceback": [
      "\u001b[0;31m---------------------------------------------------------------------------\u001b[0m",
      "\u001b[0;31mNameError\u001b[0m                                 Traceback (most recent call last)",
      "Cell \u001b[0;32mIn[1], line 2\u001b[0m\n\u001b[1;32m      1\u001b[0m \u001b[38;5;66;03m# Neural Network Random Under Sampler (2do Lugar)\u001b[39;00m\n\u001b[0;32m----> 2\u001b[0m undersampler \u001b[38;5;241m=\u001b[39m \u001b[43mRandomUnderSampler\u001b[49m(random_state\u001b[38;5;241m=\u001b[39m\u001b[38;5;241m42\u001b[39m)\n\u001b[1;32m      3\u001b[0m X_under, y_under \u001b[38;5;241m=\u001b[39m undersampler\u001b[38;5;241m.\u001b[39mfit_resample(X, y)\n\u001b[1;32m      4\u001b[0m X_train, X_test, y_train, y_test \u001b[38;5;241m=\u001b[39m train_test_split(X_under, y_under, test_size\u001b[38;5;241m=\u001b[39m\u001b[38;5;241m0.2\u001b[39m, random_state\u001b[38;5;241m=\u001b[39m\u001b[38;5;241m42\u001b[39m)\n",
      "\u001b[0;31mNameError\u001b[0m: name 'RandomUnderSampler' is not defined"
     ]
    }
   ],
   "source": [
    "# Neural Network Random Under Sampler (2do Lugar)\n",
    "undersampler = RandomUnderSampler(random_state=42)\n",
    "X_under, y_under = undersampler.fit_resample(X, y)\n",
    "X_train, X_test, y_train, y_test = train_test_split(X_under, y_under, test_size=0.2, random_state=42)\n",
    "\n",
    "pca = PCA(n_components=n)\n",
    "X_train = pca.fit_transform(X_train)\n",
    "X_test = pca.transform(X_test)\n",
    "\n",
    "model = keras.Sequential([])\n",
    "model.add(keras.Input(shape=(X_train.shape[1],)))\n",
    "model.add(keras.layers.Dense(32, activation='relu'))\n",
    "model.add(keras.layers.Dense(16, activation='relu'))\n",
    "model.add(keras.layers.Dense(8, activation='relu'))\n",
    "model.add(keras.layers.Dense(1, activation='sigmoid'))\n",
    "model.compile(optimizer='adam', loss='binary_crossentropy', metrics=['accuracy'])\n",
    "\n",
    "history = model.fit(X_train, y_train, batch_size=16, epochs=10)\n",
    "res_nn = model.evaluate(X_test, y_test)\n",
    "print(res_nn)\n",
    "train_accuracy = history.history['accuracy'][-1]\n",
    "print(train_accuracy)"
   ]
  },
  {
   "cell_type": "code",
   "execution_count": 44,
   "id": "b2a4ccfc-ea87-4247-a0f0-a84c1dbc60df",
   "metadata": {
    "collapsed": false,
    "jupyter": {
     "outputs_hidden": false
    }
   },
   "outputs": [
    {
     "data": {
      "text/plain": [
       "0.647521230204269"
      ]
     },
     "execution_count": 44,
     "metadata": {},
     "output_type": "execute_result"
    }
   ],
   "source": [
    "# Decision Tree Random Over Sampling (3er Lugar)\n",
    "oversampler = RandomOverSampler(random_state=42)\n",
    "X_over, y_over = oversampler.fit_resample(X, y)\n",
    "X_train, X_test, y_train, y_test = train_test_split(X_over, y_over, test_size=0.2, random_state=42)\n",
    "\n",
    "pca = PCA(n_components=n)\n",
    "X_train = pca.fit_transform(X_train)\n",
    "X_test = pca.transform(X_test)\n",
    "\n",
    "dt_over = tree.DecisionTreeClassifier()\n",
    "dt_over = dt_over.fit(X_train, y_train)\n",
    "dt_over.score(X_test, y_test)"
   ]
  },
  {
   "cell_type": "markdown",
   "id": "35c4cfdf-dda5-4af8-8cf6-49078bafe7dd",
   "metadata": {
    "collapsed": false,
    "jupyter": {
     "outputs_hidden": false
    }
   },
   "source": [
    "# Modelado"
   ]
  },
  {
   "cell_type": "markdown",
   "id": "c3f0d0d2-20ea-4859-a8eb-d91de0669037",
   "metadata": {
    "collapsed": false
   },
   "source": [
    "En nuestro caso, incluso después de realizar el PCA. Se obtuvieron mejores resultados con el Neural Network utilizando Random Over Sampling.\n",
    "Por lo que se hará el GridSearch con este modelo"
   ]
  },
  {
   "cell_type": "code",
   "execution_count": null,
   "id": "20890062-60aa-4792-9c8a-7992a84106d0",
   "metadata": {
    "collapsed": false
   },
   "outputs": [],
   "source": [
    "# Neural Network Random Over Sampler (GridSearchCV)\n",
    "oversampler = RandomOverSampler(random_state=42)\n",
    "X_over, y_over = oversampler.fit_resample(X, y)\n",
    "X_train, X_test, y_train, y_test = train_test_split(X_over, y_over, test_size=0.2, random_state=42)\n",
    "model = keras.Sequential([])\n",
    "model.add(keras.Input(shape=(X_train.shape[1],)))\n",
    "model.add(keras.layers.Dense(32, activation='relu'))\n",
    "model.add(keras.layers.Dense(16, activation='relu'))\n",
    "model.add(keras.layers.Dense(8, activation='relu'))\n",
    "model.add(keras.layers.Dense(1, activation='sigmoid'))\n",
    "\n",
    "model.compile(optimizer='adam', loss='binary_crossentropy', metrics=['accuracy'])\n",
    "\n",
    "parameters = [{\n",
    "    'batch_size': [16, 32],\n",
    "    'epochs': [5, 10],\n",
    "    'optimizer': ['adam', 'rmsprop'],\n",
    "    'learning_rate': [0.01, 0.001],\n",
    "    'neurons1': [64, 32],\n",
    "    'neurons2': [32, 16],\n",
    "    'neurons3': [16, 8],\n",
    "    'activation': ['relu']\n",
    "}]\n",
    "\n",
    "keras_clf = KerasClassifier(build_fn=lambda: model, verbose=0)\n",
    "\n",
    "grid_search = GridSearchCV(\n",
    "    estimator=keras_clf,\n",
    "    param_grid=parameters,\n",
    "    scoring='accuracy',\n",
    "    cv=5,\n",
    "    verbose=3,\n",
    "    n_jobs=-1\n",
    ")\n",
    "\n",
    "grid_search.fit(X_train, y_train)"
   ]
  },
  {
   "cell_type": "code",
   "execution_count": null,
   "id": "385c23c8-8659-4360-b013-2be8ff29cd5d",
   "metadata": {
    "collapsed": false
   },
   "outputs": [],
   "source": [
    "print(grid_search.best_score_)\n",
    "print(grid_search.best_params_)\n",
    "print(grid_search.best_estimator_)"
   ]
  },
  {
   "cell_type": "markdown",
   "id": "a51143f3-e5b5-4cee-bf35-f7cc8d620f9e",
   "metadata": {
    "collapsed": false,
    "jupyter": {
     "outputs_hidden": false
    }
   },
   "source": [
    "# Mejor modelo del GridSearch"
   ]
  },
  {
   "cell_type": "code",
   "execution_count": 47,
   "id": "79b82dee-5f3c-406d-94bd-b8ad064274aa",
   "metadata": {
    "collapsed": false,
    "jupyter": {
     "outputs_hidden": false
    }
   },
   "outputs": [],
   "source": [
    "best_model = grid_search.best_estimator_\n",
    "accuracy_best_model = grid_search.best_score_\n",
    "y_pred = best_model.predict(X_test)"
   ]
  },
  {
   "cell_type": "markdown",
   "id": "3943720f-96f3-4e8f-9060-05b1ebe5ba72",
   "metadata": {
    "collapsed": false,
    "jupyter": {
     "outputs_hidden": false
    }
   },
   "source": [
    "A continuación se grafica visualmente la matriz de confusión"
   ]
  },
  {
   "cell_type": "code",
   "execution_count": 48,
   "id": "8d9e211f-b5e4-4192-bf82-93939e54ff33",
   "metadata": {
    "collapsed": false,
    "jupyter": {
     "outputs_hidden": false
    }
   },
   "outputs": [
    {
     "data": {
      "image/png": "[encoded data removed]",
      "text/plain": [
       "<Figure size 600x500 with 2 Axes>"
      ]
     },
     "metadata": {},
     "output_type": "display_data"
    }
   ],
   "source": [
    "cm = confusion_matrix(y_test, y_pred)\n",
    "\n",
    "plt.figure(figsize=(6,5))\n",
    "sns.heatmap(cm, annot=True, fmt=\"d\", cmap=\"Blues\")\n",
    "plt.xlabel(\"Predicted Label\")\n",
    "plt.ylabel(\"True Label\")\n",
    "plt.title(\"Confusion Matrix Heatmap (SVM - Random Over Sampling)\")\n",
    "plt.show()"
   ]
  },
  {
   "cell_type": "markdown",
   "id": "43d6d22a-5ece-401a-8876-a7e664d31f0b",
   "metadata": {
    "collapsed": false,
    "jupyter": {
     "outputs_hidden": false
    }
   },
   "source": [
    "# Evaluación del modelo"
   ]
  },
  {
   "cell_type": "markdown",
   "id": "55923fa9-15a5-4d2b-8b8a-9bd6be4c4e86",
   "metadata": {
    "collapsed": false,
    "jupyter": {
     "outputs_hidden": false
    }
   },
   "source": [
    "Para no afectar valores que ya fueron ejecutados, para este paso se decidió entrenar los modelos nuevamente."
   ]
  },
  {
   "cell_type": "code",
   "execution_count": null,
   "id": "ea94cd58-e041-4d78-b7a0-da6a06e46506",
   "metadata": {
    "collapsed": false
   },
   "outputs": [],
   "source": [
    "# Neural Network Random Under Sampler (2do Lugar antes de GridSearch)\n",
    "undersampler = RandomUnderSampler(random_state=42)\n",
    "X_under, y_under = undersampler.fit_resample(X, y)\n",
    "X_train, X_test, y_train, y_test = train_test_split(X_under, y_under, test_size=0.2, random_state=42)\n",
    "model = keras.Sequential([])\n",
    "model.add(keras.Input(shape=(X_train.shape[1],)))\n",
    "model.add(keras.layers.Dense(32, activation='relu'))\n",
    "model.add(keras.layers.Dense(16, activation='relu'))\n",
    "model.add(keras.layers.Dense(8, activation='relu'))\n",
    "model.add(keras.layers.Dense(1, activation='sigmoid'))\n",
    "model.compile(optimizer='adam', loss='binary_crossentropy', metrics=['accuracy'])\n",
    "\n",
    "history = model.fit(X_train, y_train, batch_size=16, epochs=10)\n",
    "res_nn = model.evaluate(X_test, y_test)\n",
    "print(res_nn)\n",
    "train_accuracy = history.history['accuracy'][-1]"
   ]
  },
  {
   "cell_type": "markdown",
   "id": "573d09dc-e154-4b5c-954c-2787f7d834b7",
   "metadata": {
    "collapsed": false,
    "jupyter": {
     "outputs_hidden": false
    }
   },
   "source": [
    "# Resultados Del GridSearch "
   ]
  },
  {
   "cell_type": "markdown",
   "id": "558a0d53-0410-4d06-b3f9-b50af51613c4",
   "metadata": {
    "collapsed": false,
    "jupyter": {
     "outputs_hidden": false
    }
   },
   "source": [
    "A continuación, se mostrará una gráfica que compara el modelo SVM, tanto con GridSearch, como sin este."
   ]
  },
  {
   "cell_type": "code",
   "execution_count": 50,
   "id": "b5be575a-cc60-4a51-bfbe-c50296f4ec1e",
   "metadata": {
    "collapsed": false,
    "jupyter": {
     "outputs_hidden": false
    }
   },
   "outputs": [
    {
     "data": {
      "image/png": "[encoded data removed]",
      "text/plain": [
       "<Figure size 600x500 with 1 Axes>"
      ]
     },
     "metadata": {},
     "output_type": "display_data"
    },
    {
     "name": "stdout",
     "output_type": "stream",
     "text": [
      "[CV 4/5] END ......C=1, gamma=scale, kernel=rbf;, score=0.725 total time=10.4min\n",
      "[CV 5/5] END ....C=10, gamma=scale, kernel=poly;, score=0.717 total time=30.2min\n",
      "[CV 1/5] END ......C=1, gamma=scale, kernel=rbf;, score=0.722 total time=10.3min\n",
      "[CV 4/5] END ....C=10, gamma=scale, kernel=poly;, score=0.718 total time=30.7min\n",
      "[CV 2/5] END ......C=1, gamma=scale, kernel=rbf;, score=0.723 total time= 9.8min\n",
      "[CV 3/5] END ....C=10, gamma=scale, kernel=poly;, score=0.715 total time=31.2min\n",
      "[CV 5/5] END ......C=1, gamma=scale, kernel=rbf;, score=0.721 total time= 9.6min\n",
      "[CV 1/5] END ....C=10, gamma=scale, kernel=poly;, score=0.713 total time=31.5min\n",
      "[CV 3/5] END ......C=1, gamma=scale, kernel=rbf;, score=0.724 total time= 9.7min\n",
      "[CV 2/5] END ....C=10, gamma=scale, kernel=poly;, score=0.715 total time=31.4min\n"
     ]
    }
   ],
   "source": [
    "results = [\n",
    "    [\"Neural Network Random Over Sampling con GridSearch\", accuracy_best_model],\n",
    "    [\"Neural Network Random Under Sampling Sin GridSearch\", train_accuracy]\n",
    "]\n",
    "df_results = pd.DataFrame(results, columns=[\"Model\", \"Accuracy\"])\n",
    "\n",
    "plt.figure(figsize=(6, 5))\n",
    "sns.barplot(data=df_results, x=\"Model\", y=\"Accuracy\", palette=\"Blues\")\n",
    "plt.xlabel(\"Model Type\")\n",
    "plt.ylabel(\"Accuracy\")\n",
    "plt.title(\"Model Comparison: GridSearch Best vs SVM RBF\")\n",
    "plt.show()"
   ]
  },
  {
   "cell_type": "markdown",
   "id": "de71c2b2-7ffc-4eb1-bf40-084dc455988f",
   "metadata": {
    "collapsed": false,
    "jupyter": {
     "outputs_hidden": false
    }
   },
   "source": [
    "## Análisis de evaluación "
   ]
  },
  {
   "cell_type": "markdown",
   "id": "e107fcf1-0ca1-4d43-8369-6459d5de272b",
   "metadata": {
    "collapsed": false,
    "jupyter": {
     "outputs_hidden": false
    }
   },
   "source": [
    "1. Comparación entre métricas de modelos\n",
    "\n",
    "La evaluación de los modelos se realizó con las métricas: Accuracy, Precision, Recall y F1-Score.\n",
    "\n",
    "* Accuracy: El modelo con mejor accuracy es Neural Network con SMOTE (0.7228), seguido de SVM con datos originales (0.7195) y Logistic Regression con SMOTE (0.7144). Esto es sin contar las ejecuciones de los modelos anteriores, donde, en general, el modelo con mejor accuracy es Neural Network con SMOTE (0.7256)\n",
    "* Precision: La precisión más alta es obtenida por Logistic Regression con SMOTE (0.6356) y Neural Network con datos originales (0.6593), y esto indica que cuando predicen la presencia de Alzheimer, son modelos confiables.\n",
    "* Recall: El mejor recall lo obtuvo SVM con Near Miss (0.7610) y SVM con SMOTE (0.7501). Debido a esto se concluye que estos modelos identificaron mejor los casos positivos.\n",
    "* F1-Score: La métrica que balancea precisión y recall tiene sus mejores valores en Neural Network con SMOTE (0.6721) y SVM con SMOTE (0.6818).\n",
    "\n",
    "\n",
    "Con este análisis, podemos concluir que Neural Network con SMOTE es el mejor modelo, ya que logra el mejor balance entre todas las métricas, mostrando que no solamente se predice correctamente, sino que mantiene un buen recall y precisión a su vez.\n",
    "\n",
    "2. Impacto del Balanceo de Clases\n",
    "Se analizaron los efectos de las técnicas de balanceo Near Miss y SMOTE y se concluyó lo siguiente:\n",
    "\n",
    "* SMOTE mejoró la mayoría de los modelos, logrando mejores valores en accuracy y recall al generar datos sintéticos en la clase minoritaria, sobre todo con Neural Network, como ya vimos.\n",
    "* Near Miss redujo el rendimiento en general, ya que al eliminar datos puede haber perdido información relevante.\n",
    "\n",
    "\n",
    "3. Interpretación de la matriz de confusión\n",
    "La Matriz de Confusión del mejor modelo (Neural Network con SMOTE) mostró:\n",
    "\n",
    "Altos valores en la diagonal principal, lo que indica que predice correctamente la mayoría de los casos. Hubieron errores pero no considerables para tomar el modelo como malo.\n",
    "\n",
    "Hubieron menos falsos negativos comparado con otros modelos, lo cual es importante en caso de problemas médicos, ya que identificar correctamente casos positivos es lo más importante.\n",
    "\n",
    "Con esto se puede concluir que Neural Network con SMOTE no solo obtuvo el mejor accuracy, sino que su matriz de confusión confirma que es el más confiable en la detección de Alzheimer."
   ]
  },
  {
   "cell_type": "markdown",
   "id": "ebcd08e2-71a6-4a76-8ddc-eee2503df385",
   "metadata": {
    "collapsed": false,
    "jupyter": {
     "outputs_hidden": false
    }
   },
   "source": [
    "# Interpretación de resultados"
   ]
  },
  {
   "cell_type": "markdown",
   "id": "105796bd-91f1-4f5b-a564-c6d58993c34d",
   "metadata": {
    "collapsed": false,
    "jupyter": {
     "outputs_hidden": false
    }
   },
   "source": [
    "## Evaluación del impacto del balanceo de clases \n",
    "\n",
    "Los datos antes del balanceo de clases mostraron una pequeña desproporción con la variable objetivo, haciendo que pudiera afectar el rendimiento de los modelos. Debido a esto, se aplicaron técnicas de **Near Miss** (undersampling) y **SMOTE** (oversampling) para equilibrar las clases.\n",
    "Los resultados obtenidos mostraron que:\n",
    "- **SMOTE** mejoró el rendimiento en la mayoría de los modelos, especialmente en Neural Network y Logistic Regression.\n",
    "- **Near Miss** generalmente disminuyó la precisión debido a la eliminación de datos relevantes, por lo que no funcionó mucho para este proyecto\n",
    "- **SVM** y **Neural Network** se beneficiaron más del balanceo, obteniendo su mayor accuracy con SMOTE. Estos modelos se utilizaron para seguir con la evaluación.\n"
   ]
  },
  {
   "cell_type": "markdown",
   "id": "f2157c67-792e-4cb6-bce9-5c9f0768fec3",
   "metadata": {
    "collapsed": false,
    "jupyter": {
     "outputs_hidden": false
    }
   },
   "source": [
    "## Importancia de las características y PCA\n",
    "\n",
    "Se aplicó PCA para reducir la dimensionalidad y mejorar el desempeño de los modelos. PCA logra esto eliminando ruido y redundancias en las variables, lo que es útil para este proyecto.\n",
    "Los obtenidos mostraron que:\n",
    "- **Neural Network con SMOTE y PCA obtuvo un accuracy de 71.76%**, manteniendo un buen desempeño con menos características. Este fue, por mucho, el mejor accuracy de todos nuestros modelos\n",
    "- **SVM y Logistic Regression mostraron una ligera disminución en accuracy tras haber aplicado PCA**, esto muestra que esta reducción de características no fue beneficiosa para estos modelos.\n",
    "- En general, PCA nos permitió mejorar la eficiencia sin sacrificar demasiado el rendimiento, aunque no para todos los modelos."
   ]
  },
  {
   "cell_type": "markdown",
   "id": "242ebe3b-1e32-43a8-bf65-7adf47c22f0c",
   "metadata": {
    "collapsed": false,
    "jupyter": {
     "outputs_hidden": false
    }
   },
   "source": [
    "## Conclusiones y visualización de resultados\n",
    "\n",
    "Con este proyecto se pudo demostrar la importancia de realizar un pipeline completo de Machine Learning para el entrenamiento de modelos paraciertos proyectos, en este caso para un proyecto sobre Alzheimer. Se realizaron múltiples experimentos con técnicas de balanceo de clases, selección de características y optimización de hiperparámetros, para de esta forma poder construir el mejor modelo posible y obtener los mejores resultados.\n",
    "\n",
    "1. **Neural Network con SMOTE y Grid Search es el mejor modelo**, alcanzando una accuracy superior a los otros métodos.\n",
    "2. **SMOTE es la mejor estrategia de balanceo**, ya que permitió mejorar la precisión sin perder información relevante.\n",
    "3. **PCA ayudó a reducir la complejidad del modelo**, aunque su impacto en la precisión varió según el algoritmo.\n"
   ]
  },
  {
   "cell_type": "markdown",
   "id": "aab110a5-3aba-4977-bc01-9865007a8b8e",
   "metadata": {
    "collapsed": false,
    "jupyter": {
     "outputs_hidden": false
    }
   },
   "source": []
  },
  {
   "cell_type": "code",
   "execution_count": null,
   "id": "86cc1117-0011-4183-b85d-7dcf08028b78",
   "metadata": {
    "collapsed": false,
    "jupyter": {
     "outputs_hidden": false
    }
   },
   "outputs": [],
   "source": []
  }
 ],
 "metadata": {
  "kernelspec": {
   "argv": [
    "/opt/homebrew/Cellar/jupyterlab/4.3.5/libexec/bin/python",
    "-m",
    "ipykernel_launcher",
    "-f",
    "{connection_file}"
   ],
   "display_name": "Python 3 (ipykernel)",
   "env": null,
   "interrupt_mode": "signal",
   "language": "python",
   "metadata": {
    "debugger": true
   },
   "name": "python3"
  },
  "language_info": {
   "codemirror_mode": {
    "name": "ipython",
    "version": 3
   },
   "file_extension": ".py",
   "mimetype": "text/x-python",
   "name": "python",
   "nbconvert_exporter": "python",
   "pygments_lexer": "ipython3",
   "version": "3.10.12"
  },
  "name": "data_exploration.ipynb"
 },
 "nbformat": 4,
 "nbformat_minor": 5
}
